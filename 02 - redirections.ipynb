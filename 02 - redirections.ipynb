{
 "cells": [
  {
   "cell_type": "markdown",
   "id": "dd1d375d-a0f0-4d42-b31e-ffa28654eb6e",
   "metadata": {
    "slideshow": {
     "slide_type": "fragment"
    },
    "tags": []
   },
   "source": [
    "# Redirections"
   ]
  },
  {
   "cell_type": "code",
   "execution_count": 1,
   "id": "45e039fd-b4e4-44bd-b58b-ae487f210171",
   "metadata": {
    "slideshow": {
     "slide_type": "slide"
    },
    "tags": []
   },
   "outputs": [
    {
     "name": "stdout",
     "output_type": "stream",
     "text": [
      "cat: afile: No such file or directory\n",
      "Append file\n",
      "Uppend bile\n"
     ]
    }
   ],
   "source": [
    "rm -f afile\n",
    "cat afile\n",
    "touch afile\n",
    "cat afile\n",
    "echo \"Overwrite file\" > file\n",
    "cat afile\n",
    "echo \"Append file\" >> afile\n",
    "cat afile\n",
    "# Source file to stdin\n",
    "tr 'Af' 'Ub' < afile"
   ]
  },
  {
   "cell_type": "markdown",
   "id": "0eb89609-de32-448e-8e32-3c3e87f21038",
   "metadata": {
    "slideshow": {
     "slide_type": "slide"
    },
    "tags": []
   },
   "source": [
    "# Files\n",
    "\n"
   ]
  },
  {
   "cell_type": "code",
   "execution_count": 4,
   "id": "36a2fee2-5d6c-4616-a68a-da9f18ec93db",
   "metadata": {},
   "outputs": [
    {
     "name": "stdout",
     "output_type": "stream",
     "text": [
      "/home/dpew/src/spectric/presentations/bash2\n"
     ]
    }
   ],
   "source": [
    "pwd"
   ]
  }
 ],
 "metadata": {
  "kernelspec": {
   "display_name": "Bash",
   "language": "bash",
   "name": "bash"
  },
  "language_info": {
   "codemirror_mode": "shell",
   "file_extension": ".sh",
   "mimetype": "text/x-sh",
   "name": "bash"
  }
 },
 "nbformat": 4,
 "nbformat_minor": 5
}
