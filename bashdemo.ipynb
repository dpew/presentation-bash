{
 "cells": [
  {
   "cell_type": "code",
   "execution_count": 10,
   "id": "033d36a3",
   "metadata": {
    "scrolled": true,
    "slideshow": {
     "slide_type": "notes"
    }
   },
   "outputs": [
    {
     "name": "stdout",
     "output_type": "stream",
     "text": [
      "[INFO] JHOME=/home/dpew/src/presentations/presentation-bash\n",
      "[INFO] demo reset\n",
      "[INFO] demo reset\n"
     ]
    }
   ],
   "source": [
    "# Run to initialize demo\n",
    "[[ $(type -t initdemo) != function ]] && source initdemo\n",
    "initdemo --verbose\n",
    "\n",
    "# Now use alt-r to enter rise\n",
    "# Use Space to advance, Ctrl-Enter to Run"
   ]
  },
  {
   "cell_type": "markdown",
   "id": "4b635768",
   "metadata": {
    "slideshow": {
     "slide_type": "slide"
    },
    "vscode": {
     "languageId": "plaintext"
    }
   },
   "source": [
    "# A Quick Introduction to Linux and Bash\n",
    "\n",
    "\n",
    "This presentation is a brief introduction to Linux and the Bash shell. \n",
    "\n",
    "Linux is a UNIX like Operating System developed by Linus Torvalis in the 1990s.\n",
    "Linux is not techinically UNIX, as UNIX is a trademarked name owned by X.\n",
    "But much of this presentation will apply to other UN*X systems, like MacOS or Free BSD."
   ]
  },
  {
   "cell_type": "markdown",
   "id": "4285ec23",
   "metadata": {
    "slideshow": {
     "slide_type": "slide"
    },
    "vscode": {
     "languageId": "plaintext"
    }
   },
   "source": [
    "# The Unix Filesystem\n",
    "\n",
    "\n",
    "The Unix filesystem is a hierarchal collection of files starting with the root directory (/):"
   ]
  },
  {
   "cell_type": "code",
   "execution_count": 3,
   "id": "6b2e8b55",
   "metadata": {
    "slideshow": {
     "slide_type": "fragment"
    },
    "vscode": {
     "languageId": "plaintext"
    }
   },
   "outputs": [
    {
     "name": "stdout",
     "output_type": "stream",
     "text": [
      "total 1500\n",
      "drwxr-xr-x   3 root root    4096 Apr 24  2023 Docker\n",
      "lrwxrwxrwx   1 root root       7 Apr 23  2020 bin -> usr/bin\n",
      "drwxr-xr-x   2 root root    4096 Apr 23  2020 boot\n",
      "drwxr-xr-x   9 root root    3080 Jun  2 12:34 dev\n",
      "drwxr-xr-x 128 root root   12288 Jun  2 12:33 etc\n",
      "drwxr-xr-x   4 root root    4096 Nov  6  2022 home\n",
      "-rwxr-xr-x   3 root root 1440152 May  7  2022 init\n",
      "lrwxrwxrwx   1 root root       7 Apr 23  2020 lib -> usr/lib\n",
      "lrwxrwxrwx   1 root root       9 Apr 23  2020 lib32 -> usr/lib32\n",
      "lrwxrwxrwx   1 root root       9 Apr 23  2020 lib64 -> usr/lib64\n",
      "lrwxrwxrwx   1 root root      10 Apr 23  2020 libx32 -> usr/libx32\n",
      "drwx------   2 root root   16384 Apr 10  2019 lost+found\n",
      "drwxr-xr-x   2 root root    4096 Apr 23  2020 media\n",
      "drwxr-xr-x   5 root root    4096 Oct 18  2022 mnt\n",
      "drwxr-xr-x   3 root root    4096 Jan 31  2022 opt\n",
      "dr-xr-xr-x 401 root root       0 Jun  2 12:33 proc\n",
      "drwx------   7 root root    4096 Oct 25  2022 root\n",
      "drwxr-xr-x   7 root root     200 Jun  2 12:34 run\n",
      "lrwxrwxrwx   1 root root       8 Apr 23  2020 sbin -> usr/sbin\n",
      "drwxr-xr-x   2 root root    4096 Apr 10  2020 snap\n",
      "drwxr-xr-x   2 root root    4096 Apr 23  2020 srv\n",
      "dr-xr-xr-x  11 root root       0 Jun  2 12:33 sys\n",
      "drwxrwxrwt  97 root root   20480 Jun  2 15:06 tmp\n",
      "drwxr-xr-x  14 root root    4096 Apr 23  2020 usr\n",
      "drwxr-xr-x  13 root root    4096 Apr 23  2020 var\n"
     ]
    }
   ],
   "source": [
    "# lets see the filesystem\n",
    "\n",
    "ls -l /"
   ]
  },
  {
   "cell_type": "markdown",
   "id": "888fe544",
   "metadata": {
    "slideshow": {
     "slide_type": "subslide"
    },
    "vscode": {
     "languageId": "plaintext"
    }
   },
   "source": [
    "# Most linux distros follow the Filesystem Hierarchy System (FHS). \n",
    "\n",
    "FHS specifies a standard location for files in UN*X, such as executables (commands that can be run, devices, shared libraries, etc.)"
   ]
  },
  {
   "cell_type": "markdown",
   "id": "15a01c2a",
   "metadata": {
    "slideshow": {
     "slide_type": "subslide"
    },
    "vscode": {
     "languageId": "plaintext"
    }
   },
   "source": [
    "## What is a file?\n",
    "\n",
    "A file in unix is one of:\n",
    "  - regular file\n",
    "  - directory\n",
    "  - character device\n",
    "  - block device\n",
    "  - FIFOs/ Named Pipes\n",
    "  - symbolic link\n",
    "  - socket"
   ]
  },
  {
   "cell_type": "markdown",
   "id": "f413fbbd",
   "metadata": {
    "slideshow": {
     "slide_type": "subslide"
    },
    "vscode": {
     "languageId": "plaintext"
    }
   },
   "source": [
    "# Regular Files"
   ]
  },
  {
   "cell_type": "code",
   "execution_count": 14,
   "id": "035dec7b",
   "metadata": {
    "slideshow": {
     "slide_type": "fragment"
    },
    "vscode": {
     "languageId": "plaintext"
    }
   },
   "outputs": [],
   "source": [
    "# Let's make a file\n",
    "echo \"This is my data\" > data.txt"
   ]
  },
  {
   "cell_type": "code",
   "execution_count": 15,
   "id": "6ddace3a",
   "metadata": {
    "slideshow": {
     "slide_type": "fragment"
    },
    "vscode": {
     "languageId": "plaintext"
    }
   },
   "outputs": [
    {
     "name": "stdout",
     "output_type": "stream",
     "text": [
      "This is my data\n"
     ]
    }
   ],
   "source": [
    "# cat displays the contents of a file\n",
    "cat data.txt"
   ]
  },
  {
   "cell_type": "markdown",
   "id": "16855ed6",
   "metadata": {
    "slideshow": {
     "slide_type": "subslide"
    }
   },
   "source": [
    "# Directory"
   ]
  },
  {
   "cell_type": "code",
   "execution_count": 2,
   "id": "0b9707a6",
   "metadata": {
    "slideshow": {
     "slide_type": "fragment"
    },
    "vscode": {
     "languageId": "plaintext"
    }
   },
   "outputs": [],
   "source": [
    "# make a directory\n",
    "mkdir mydir"
   ]
  },
  {
   "cell_type": "code",
   "execution_count": 3,
   "id": "9c45dc06",
   "metadata": {
    "slideshow": {
     "slide_type": "fragment"
    },
    "vscode": {
     "languageId": "plaintext"
    }
   },
   "outputs": [
    {
     "name": "stdout",
     "output_type": "stream",
     "text": [
      "/home/dpew/src/presentations/presentation-bash\n",
      "/home/dpew/src/presentations/presentation-bash/mydir\n"
     ]
    }
   ],
   "source": [
    "# enter the mydir directory\n",
    "pwd\n",
    "cd mydir\n",
    "pwd"
   ]
  },
  {
   "cell_type": "code",
   "execution_count": 4,
   "id": "3d0c7af6",
   "metadata": {
    "slideshow": {
     "slide_type": "fragment"
    },
    "vscode": {
     "languageId": "plaintext"
    }
   },
   "outputs": [
    {
     "name": "stdout",
     "output_type": "stream",
     "text": [
      "/home/dpew/src/presentations/presentation-bash\n"
     ]
    }
   ],
   "source": [
    "# Return to the parent directory\n",
    "cd ..\n",
    "pwd"
   ]
  },
  {
   "cell_type": "code",
   "execution_count": 7,
   "id": "c4e3b465",
   "metadata": {
    "slideshow": {
     "slide_type": "subslide"
    },
    "vscode": {
     "languageId": "plaintext"
    }
   },
   "outputs": [
    {
     "name": "stdout",
     "output_type": "stream",
     "text": [
      "/var/tmp ~/src/presentations/presentation-bash\n",
      "/var/tmp\n"
     ]
    }
   ],
   "source": [
    "# Another way of navigating files\n",
    "pushd /var/tmp\n",
    "pwd"
   ]
  },
  {
   "cell_type": "code",
   "execution_count": 8,
   "id": "af971d2c",
   "metadata": {
    "slideshow": {
     "slide_type": "fragment"
    },
    "vscode": {
     "languageId": "plaintext"
    }
   },
   "outputs": [
    {
     "name": "stdout",
     "output_type": "stream",
     "text": [
      "~/src/presentations/presentation-bash\n",
      "/home/dpew/src/presentations/presentation-bash\n"
     ]
    }
   ],
   "source": [
    "# return to previous directory\n",
    "popd\n",
    "pwd"
   ]
  },
  {
   "cell_type": "markdown",
   "id": "287d2f6a",
   "metadata": {
    "slideshow": {
     "slide_type": "subslide"
    },
    "vscode": {
     "languageId": "plaintext"
    }
   },
   "source": [
    "# Inodes (Links)"
   ]
  },
  {
   "cell_type": "code",
   "execution_count": 16,
   "id": "3429f16e",
   "metadata": {
    "slideshow": {
     "slide_type": "fragment"
    },
    "vscode": {
     "languageId": "plaintext"
    }
   },
   "outputs": [
    {
     "name": "stdout",
     "output_type": "stream",
     "text": [
      "total 12\n",
      "drwxr-xr-x 2 dpew dpew 4096 Jun  2 15:30 .\n",
      "drwxr-xr-x 9 dpew dpew 4096 Jun  2 15:30 ..\n",
      "-rw-r--r-- 1 dpew dpew   16 Jun  2 15:30 data.txt\n"
     ]
    }
   ],
   "source": [
    "# a directory contains links to inodes\n",
    "ls -la"
   ]
  },
  {
   "cell_type": "markdown",
   "id": "5b745068",
   "metadata": {
    "slideshow": {
     "slide_type": "notes"
    },
    "vscode": {
     "languageId": "plaintext"
    }
   },
   "source": [
    "Stop here and explain the contents of the directory"
   ]
  },
  {
   "cell_type": "code",
   "execution_count": 17,
   "id": "e54c9be7",
   "metadata": {
    "slideshow": {
     "slide_type": "fragment"
    },
    "vscode": {
     "languageId": "plaintext"
    }
   },
   "outputs": [],
   "source": [
    "# create link to a file\n",
    "ln data.txt linked.txt"
   ]
  },
  {
   "cell_type": "code",
   "execution_count": 18,
   "id": "63b33088",
   "metadata": {
    "slideshow": {
     "slide_type": "fragment"
    },
    "vscode": {
     "languageId": "plaintext"
    }
   },
   "outputs": [
    {
     "name": "stdout",
     "output_type": "stream",
     "text": [
      "total 8\n",
      "-rw-r--r-- 2 dpew dpew 16 Jun  2 15:30 data.txt\n",
      "-rw-r--r-- 2 dpew dpew 16 Jun  2 15:30 linked.txt\n"
     ]
    }
   ],
   "source": [
    "# data.txt now shows an additional link\n",
    "ls -l"
   ]
  },
  {
   "cell_type": "code",
   "execution_count": null,
   "id": "4effd586",
   "metadata": {
    "slideshow": {
     "slide_type": "subslide"
    },
    "vscode": {
     "languageId": "plaintext"
    }
   },
   "outputs": [],
   "source": [
    "# A link points to the same inode (file)\n",
    "cat linked.txt\n",
    "# Make an edit to file via link\n",
    "echo \"A new line\" >> linked.txt\n",
    "# Same data\n",
    "cat data.txt"
   ]
  },
  {
   "cell_type": "code",
   "execution_count": null,
   "id": "f29c8b78",
   "metadata": {
    "slideshow": {
     "slide_type": "fragment"
    },
    "vscode": {
     "languageId": "plaintext"
    }
   },
   "outputs": [],
   "source": [
    "# So long as links remain, inode remains\n",
    "rm data.txt\n",
    "# Data still exists\n",
    "cat linked.txt"
   ]
  },
  {
   "cell_type": "code",
   "execution_count": 11,
   "id": "96bd6ad4",
   "metadata": {
    "slideshow": {
     "slide_type": "notes"
    },
    "vscode": {
     "languageId": "plaintext"
    }
   },
   "outputs": [
    {
     "name": "stdout",
     "output_type": "stream",
     "text": [
      "[INFO] demo reset\n"
     ]
    }
   ],
   "source": [
    "# clean up files\n",
    "initdemo"
   ]
  },
  {
   "cell_type": "markdown",
   "id": "833312b1",
   "metadata": {
    "slideshow": {
     "slide_type": "subslide"
    },
    "vscode": {
     "languageId": "plaintext"
    }
   },
   "source": [
    "# Symbolic Links"
   ]
  },
  {
   "cell_type": "code",
   "execution_count": null,
   "id": "f198949c",
   "metadata": {
    "slideshow": {
     "slide_type": "fragment"
    },
    "vscode": {
     "languageId": "plaintext"
    }
   },
   "outputs": [],
   "source": [
    "# symbolic link is a pointer\n",
    "echo \"This is new data\" > newdata.txt\n",
    "ln -s newdata.txt symbolic.txt\n",
    "ls -l"
   ]
  },
  {
   "cell_type": "code",
   "execution_count": 20,
   "id": "37a59144",
   "metadata": {
    "slideshow": {
     "slide_type": "fragment"
    },
    "vscode": {
     "languageId": "plaintext"
    }
   },
   "outputs": [
    {
     "name": "stdout",
     "output_type": "stream",
     "text": [
      "ln: failed to create symbolic link 'symbolic.txt': File exists\n",
      "total 12\n",
      "-rw-r--r-- 2 dpew dpew 16 Jun  2 15:30 data.txt\n",
      "-rw-r--r-- 2 dpew dpew 16 Jun  2 15:30 linked.txt\n",
      "-rw-r--r-- 1 dpew dpew 17 Jun  2 15:32 newdata.txt\n",
      "lrwxrwxrwx 1 dpew dpew 11 Jun  2 15:31 symbolic.txt -> newdata.txt\n",
      "This is new data\n"
     ]
    }
   ],
   "source": [
    "cat symbolic.txt"
   ]
  },
  {
   "cell_type": "code",
   "execution_count": null,
   "id": "98f800fb",
   "metadata": {
    "slideshow": {
     "slide_type": "fragment"
    },
    "vscode": {
     "languageId": "plaintext"
    }
   },
   "outputs": [],
   "source": [
    "# Look at the file types\n",
    "file *"
   ]
  },
  {
   "cell_type": "code",
   "execution_count": null,
   "id": "64103db8",
   "metadata": {
    "slideshow": {
     "slide_type": "fragment"
    },
    "vscode": {
     "languageId": "plaintext"
    }
   },
   "outputs": [],
   "source": [
    "# When removing the original, the symlink no longer works\n",
    "rm newdata.txt\n",
    "ln -s\n",
    "cat symbolic.txt # an error"
   ]
  },
  {
   "cell_type": "markdown",
   "id": "80a06c99",
   "metadata": {
    "slideshow": {
     "slide_type": "slide"
    }
   },
   "source": [
    "# Processes"
   ]
  },
  {
   "cell_type": "code",
   "execution_count": 22,
   "id": "0aef4da4",
   "metadata": {
    "slideshow": {
     "slide_type": "fragment"
    }
   },
   "outputs": [
    {
     "name": "stdout",
     "output_type": "stream",
     "text": [
      "UID        PID  PPID  C STIME TTY          TIME CMD\n",
      "root         1     0  0 12:33 ?        00:00:00 /init\n",
      "root       129     1  0 12:34 ?        00:00:00   /init\n",
      "root       130   129  0 12:34 ?        00:00:00     /init\n",
      "root       131   130  0 12:34 pts/0    00:00:00       /mnt/wsl/docker-desktop/docker-desktop-user-distro proxy --distro-name Ubuntu --docker-desktop-root /mnt/wsl/docker-desktop C:\\Program Files\\Docker\\Docker\\resources\n",
      "root       148   129  0 12:34 ?        00:00:00     /init\n",
      "dpew       149   148  0 12:34 pts/1    00:00:01       docker serve --address unix:///home/dpew/.docker/run/docker-cli-api.sock\n",
      "root       169     1  0 12:44 ?        00:00:00   /init\n",
      "dpew       171   169  2 12:44 ?        00:06:28     ./wslconnect wsl -F -p 127.0.0.1:22003\n",
      "dpew       172   171  0 12:44 pts/3    00:00:00       -bash\n",
      "dpew       483   172  0 12:44 pts/3    00:00:05         /usr/bin/python3 /usr/bin/terminator\n",
      "dpew       525   483  0 12:44 pts/4    00:00:00           /bin/bash\n",
      "dpew       954   525  0 12:45 pts/4    00:00:00             /bin/bash ./run.sh\n",
      "dpew       959   954  0 12:45 pts/4    00:00:07               /home/dpew/src/presentations/presentation-bash/venv/bin/python /home/dpew/src/presentations/presentation-bash/venv/bin/jupyter-notebook\n",
      "dpew     20527   959  0 15:18 ?        00:00:00                 /home/dpew/src/presentations/presentation-bash/venv/bin/python -m bash_kernel -f /home/dpew/.local/share/jupyter/runtime/kernel-47471265-3354-468a-9346-df7a34f5b6b1.json\n"
     ]
    }
   ],
   "source": [
    "# All processes\n",
    "ps -efH | head -15"
   ]
  },
  {
   "cell_type": "markdown",
   "id": "37533cf1",
   "metadata": {
    "slideshow": {
     "slide_type": "subslide"
    }
   },
   "source": [
    "# Fork-Exec\n",
    " - A process forks itself, making a child process\n",
    " - The child process optionally replaces itself with exec\n",
    " - The child process inherits\n",
    "     - file descriptors\n",
    "     - environment variables\n",
    "     - signal handlers\n",
    "     - current working directory\n",
    "     - umask\n",
    "     - resource limits (max file size, cpu limits, max open files, etc.)\n",
    "     - controlling terminal\n",
    "     - uid and gid\n",
    "     - memory space (memory is not shared)"
   ]
  },
  {
   "cell_type": "code",
   "execution_count": 23,
   "id": "cde539ed",
   "metadata": {
    "slideshow": {
     "slide_type": "subslide"
    }
   },
   "outputs": [
    {
     "name": "stdout",
     "output_type": "stream",
     "text": [
      "arch_status\t environ    mountinfo\t   projid_map\t status\n",
      "attr\t\t exe\t    mounts\t   root\t\t syscall\n",
      "auxv\t\t fd\t    mountstats\t   sched\t task\n",
      "cgroup\t\t fdinfo     net\t\t   schedstat\t timers\n",
      "clear_refs\t gid_map    ns\t\t   setgroups\t timerslack_ns\n",
      "cmdline\t\t io\t    oom_adj\t   smaps\t uid_map\n",
      "comm\t\t limits     oom_score\t   smaps_rollup  wchan\n",
      "coredump_filter  map_files  oom_score_adj  stack\n",
      "cpuset\t\t maps\t    pagemap\t   stat\n",
      "cwd\t\t mem\t    personality    statm\n"
     ]
    }
   ],
   "source": [
    "# /proc is a special linux filesystem showing process info\n",
    "ls /proc/$$"
   ]
  },
  {
   "cell_type": "code",
   "execution_count": 25,
   "id": "bb87a188",
   "metadata": {
    "slideshow": {
     "slide_type": "subslide"
    }
   },
   "outputs": [
    {
     "name": "stdout",
     "output_type": "stream",
     "text": [
      "WSLENV=BASH_ENV/u\n",
      "XDG_DATA_DIRS=/usr/local/share:/usr/share:/var/lib/snapd/desktop\n",
      "PATH=/home/linuxbrew/.linuxbrew/bin:/home/linuxbrew/.linuxbrew/sbin:/home/dpew/.nvm/versions/node/v16.17.1/bin:/usr/local/sbin:/usr/local/bin:/usr/sbin:/usr/bin:/sbin:/bin:/usr/games:/usr/local/games:/usr/lib/wsl/lib:/mnt/c/Users/DougPew/AppData/Roaming/MobaXterm/slash/bin:/mnt/c/WINDOWS/:/mnt/c/WINDOWS/system32/:/mnt/c/Windows/system32:/mnt/c/Windows:/mnt/c/Windows/System32/Wbem:/mnt/c/Windows/System32/WindowsPowerShell/v1.0/:/mnt/c/Program Files (x86)/NVIDIA Corporation/PhysX/Common:/mnt/c/Program Files/NVIDIA Corporation/NVIDIA NvDLISR:/mnt/c/Program Files/Microsoft VS Code/bin:/mnt/c/Program Files/dotnet/:/mnt/c/ProgramData/chocolatey/bin:/mnt/c/WINDOWS/system32:/mnt/c/WINDOWS:/mnt/c/WINDOWS/System32/Wbem:/mnt/c/WINDOWS/System32/WindowsPowerShell/v1.0/:/Docker/host/bin:/mnt/c/Program Files (x86)/HP/HP OCR/DB_Lib/:/mnt/c/Program Files/HP/Common/HPDestPlgIn/:/mnt/c/Program Files (x86)/HP/Common/HPDestPlgIn/:/mnt/c/Users/DougPew/AppData/Local/Microsoft/WindowsApps:/mnt/c/Program Files/HP/Common/HPDestPlgIn/:/mnt/c/Program Files (x86)/HP/Common/HPDestPlgIn/:/mnt/c/WINDOWS/sysnative/:/snap/bin:/home/dpew/bin:/opt/apache-maven-3.5.3/bin:/home/dpew/opt/k8s-install\n",
      "NVM_BIN=/home/dpew/.nvm/versions/node/v16.17.1/bin\n",
      "SSH_TTY=/dev/pts/3\n",
      "HOSTTYPE=x86_64\n",
      "PULSE_SERVER=/mnt/wslg/PulseServer\n",
      "OLDPWD=/home/dpew/src/presentations/presentation-bash\n",
      "SCM_CHECK=true\n",
      "_=/usr/bin/env\n"
     ]
    }
   ],
   "source": [
    "# some env vars\n",
    "env | tail -10"
   ]
  },
  {
   "cell_type": "code",
   "execution_count": 24,
   "id": "3d53e6f4",
   "metadata": {
    "slideshow": {
     "slide_type": "fragment"
    }
   },
   "outputs": [
    {
     "name": "stdout",
     "output_type": "stream",
     "text": [
      "WSLENV=BASH_ENV/u\n",
      "XDG_DATA_DIRS=/usr/local/share:/usr/share:/var/lib/snapd/desktop\n",
      "PATH=/home/linuxbrew/.linuxbrew/bin:/home/linuxbrew/.linuxbrew/sbin:/home/dpew/.nvm/versions/node/v16.17.1/bin:/usr/local/sbin:/usr/local/bin:/usr/sbin:/usr/bin:/sbin:/bin:/usr/games:/usr/local/games:/usr/lib/wsl/lib:/mnt/c/Users/DougPew/AppData/Roaming/MobaXterm/slash/bin:/mnt/c/WINDOWS/:/mnt/c/WINDOWS/system32/:/mnt/c/Windows/system32:/mnt/c/Windows:/mnt/c/Windows/System32/Wbem:/mnt/c/Windows/System32/WindowsPowerShell/v1.0/:/mnt/c/Program Files (x86)/NVIDIA Corporation/PhysX/Common:/mnt/c/Program Files/NVIDIA Corporation/NVIDIA NvDLISR:/mnt/c/Program Files/Microsoft VS Code/bin:/mnt/c/Program Files/dotnet/:/mnt/c/ProgramData/chocolatey/bin:/mnt/c/WINDOWS/system32:/mnt/c/WINDOWS:/mnt/c/WINDOWS/System32/Wbem:/mnt/c/WINDOWS/System32/WindowsPowerShell/v1.0/:/Docker/host/bin:/mnt/c/Program Files (x86)/HP/HP OCR/DB_Lib/:/mnt/c/Program Files/HP/Common/HPDestPlgIn/:/mnt/c/Program Files (x86)/HP/Common/HPDestPlgIn/:/mnt/c/Users/DougPew/AppData/Local/Microsoft/WindowsApps:/mnt/c/Program Files/HP/Common/HPDestPlgIn/:/mnt/c/Program Files (x86)/HP/Common/HPDestPlgIn/:/mnt/c/WINDOWS/sysnative/:/snap/bin:/home/dpew/bin:/opt/apache-maven-3.5.3/bin:/home/dpew/opt/k8s-install\n",
      "NVM_BIN=/home/dpew/.nvm/versions/node/v16.17.1/bin\n",
      "SSH_TTY=/dev/pts/3\n",
      "HOSTTYPE=x86_64\n",
      "PULSE_SERVER=/mnt/wslg/PulseServer\n",
      "OLDPWD=/home/dpew/src/presentations/presentation-bash\n",
      "SCM_CHECK=true\n",
      "_=/usr/bin/env\n",
      "PATH=/home/linuxbrew/.linuxbrew/bin:/home/linuxbrew/.linuxbrew/sbin:/home/dpew/.nvm/versions/node/v16.17.1/bin:/usr/local/sbin:/usr/local/bin:/usr/sbin:/usr/bin:/sbin:/bin:/usr/games:/usr/local/games:/usr/lib/wsl/lib:/mnt/c/Users/DougPew/AppData/Roaming/MobaXterm/slash/bin:/mnt/c/WINDOWS/:/mnt/c/WINDOWS/system32/:/mnt/c/Windows/system32:/mnt/c/Windows:/mnt/c/Windows/System32/Wbem:/mnt/c/Windows/System32/WindowsPowerShell/v1.0/:/mnt/c/Program Files (x86)/NVIDIA Corporation/PhysX/Common:/mnt/c/Program Files/NVIDIA Corporation/NVIDIA NvDLISR:/mnt/c/Program Files/Microsoft VS Code/bin:/mnt/c/Program Files/dotnet/:/mnt/c/ProgramData/chocolatey/bin:/mnt/c/WINDOWS/system32:/mnt/c/WINDOWS:/mnt/c/WINDOWS/System32/Wbem:/mnt/c/WINDOWS/System32/WindowsPowerShell/v1.0/:/Docker/host/bin:/mnt/c/Program Files (x86)/HP/HP OCR/DB_Lib/:/mnt/c/Program Files/HP/Common/HPDestPlgIn/:/mnt/c/Program Files (x86)/HP/Common/HPDestPlgIn/:/mnt/c/Users/DougPew/AppData/Local/Microsoft/WindowsApps:/mnt/c/Program Files/HP/Common/HPDestPlgIn/:/mnt/c/Program Files (x86)/HP/Common/HPDestPlgIn/:/mnt/c/WINDOWS/sysnative/:/snap/bin:/home/dpew/bin:/opt/apache-maven-3.5.3/bin:/home/dpew/opt/k8s-install\n",
      "NVM_BIN=/home/dpew/.nvm/versions/node/v16.17.1/bin\n",
      "SSH_TTY=/dev/pts/3\n",
      "HOSTTYPE=x86_64\n",
      "PULSE_SERVER=/mnt/wslg/PulseServer\n",
      "OLDPWD=/home/dpew\n",
      "SCM_CHECK=true\n",
      "_=/home/dpew/src/presentations/presentation-bash/venv/bin/jupyter\n",
      "PS1=$\n",
      "JPY_PARENT_PID=959\n"
     ]
    }
   ],
   "source": [
    "# via proc\n",
    "cat /proc/$$/environ | tr '\\0' '\\n' | tail -10 # via proc"
   ]
  },
  {
   "cell_type": "code",
   "execution_count": 30,
   "id": "1617997f",
   "metadata": {
    "scrolled": true,
    "slideshow": {
     "slide_type": "subslide"
    }
   },
   "outputs": [
    {
     "name": "stdout",
     "output_type": "stream",
     "text": [
      "core file size          (blocks, -c) 0\n",
      "data seg size           (kbytes, -d) unlimited\n",
      "scheduling priority             (-e) 0\n",
      "file size               (blocks, -f) unlimited\n",
      "pending signals                 (-i) 63417\n",
      "max locked memory       (kbytes, -l) 64\n",
      "max memory size         (kbytes, -m) unlimited\n",
      "open files                      (-n) 4096\n",
      "pipe size            (512 bytes, -p) 8\n",
      "POSIX message queues     (bytes, -q) 819200\n",
      "real-time priority              (-r) 0\n",
      "stack size              (kbytes, -s) 8192\n",
      "cpu time               (seconds, -t) unlimited\n",
      "max user processes              (-u) 63417\n",
      "virtual memory          (kbytes, -v) unlimited\n",
      "file locks                      (-x) unlimited\n"
     ]
    }
   ],
   "source": [
    "# Resource limits\n",
    "ulimit -a # limits"
   ]
  },
  {
   "cell_type": "code",
   "execution_count": 31,
   "id": "023b01c4",
   "metadata": {
    "scrolled": true,
    "slideshow": {
     "slide_type": "fragment"
    }
   },
   "outputs": [
    {
     "name": "stdout",
     "output_type": "stream",
     "text": [
      "Limit                     Soft Limit           Hard Limit           Units     \n",
      "Max cpu time              unlimited            unlimited            seconds   \n",
      "Max file size             unlimited            unlimited            bytes     \n",
      "Max data size             unlimited            unlimited            bytes     \n",
      "Max stack size            8388608              unlimited            bytes     \n",
      "Max core file size        0                    0                    bytes     \n",
      "Max resident set          unlimited            unlimited            bytes     \n",
      "Max processes             63417                63417                processes \n",
      "Max open files            4096                 1048576              files     \n",
      "Max locked memory         65536                65536                bytes     \n",
      "Max address space         unlimited            unlimited            bytes     \n",
      "Max file locks            unlimited            unlimited            locks     \n",
      "Max pending signals       63417                63417                signals   \n",
      "Max msgqueue size         819200               819200               bytes     \n",
      "Max nice priority         0                    0                    \n",
      "Max realtime priority     0                    0                    \n",
      "Max realtime timeout      unlimited            unlimited            us        \n"
     ]
    }
   ],
   "source": [
    "cat /proc/$$/limits # via proc"
   ]
  },
  {
   "cell_type": "code",
   "execution_count": 33,
   "id": "7082a9cc",
   "metadata": {
    "slideshow": {
     "slide_type": "subslide"
    }
   },
   "outputs": [
    {
     "name": "stdout",
     "output_type": "stream",
     "text": [
      "/home/dpew/src/presentations/presentation-bash/playground\n"
     ]
    }
   ],
   "source": [
    "# cwd\n",
    "pwd"
   ]
  },
  {
   "cell_type": "code",
   "execution_count": 28,
   "id": "86c4af59",
   "metadata": {
    "slideshow": {
     "slide_type": "fragment"
    }
   },
   "outputs": [
    {
     "name": "stdout",
     "output_type": "stream",
     "text": [
      "/home/dpew/src/presentations/presentation-bash/playground\n",
      "lrwxrwxrwx 1 dpew dpew 0 Jun  2 15:18 /proc/20541/cwd -> /home/dpew/src/presentations/presentation-bash/playground\n"
     ]
    }
   ],
   "source": [
    "# via proc\n",
    "ls -l /proc/$$/cwd"
   ]
  },
  {
   "cell_type": "code",
   "execution_count": 29,
   "id": "8d4300c0",
   "metadata": {
    "slideshow": {
     "slide_type": "fragment"
    }
   },
   "outputs": [
    {
     "name": "stdout",
     "output_type": "stream",
     "text": [
      "0022\n"
     ]
    }
   ],
   "source": [
    "# Current umask (no proc equiv)\n",
    "umask"
   ]
  },
  {
   "cell_type": "code",
   "execution_count": 32,
   "id": "f28a3405",
   "metadata": {
    "slideshow": {
     "slide_type": "fragment"
    }
   },
   "outputs": [
    {
     "name": "stdout",
     "output_type": "stream",
     "text": [
      "total 0\n",
      "lrwx------ 1 dpew dpew 64 Jun  2 15:18 0 -> /dev/pts/5\n",
      "lrwx------ 1 dpew dpew 64 Jun  2 15:18 1 -> /dev/pts/5\n",
      "lrwx------ 1 dpew dpew 64 Jun  2 15:18 2 -> /dev/pts/5\n",
      "lrwx------ 1 dpew dpew 64 Jun  2 15:18 255 -> /dev/pts/5\n"
     ]
    }
   ],
   "source": [
    "# Open file descriptors\n",
    "ls -l /proc/$$/fd"
   ]
  },
  {
   "cell_type": "markdown",
   "id": "c06785e1-4c0d-485e-a94d-f5c8ea1a82fc",
   "metadata": {
    "slideshow": {
     "slide_type": "slide"
    }
   },
   "source": [
    "# The Shell\n",
    "* Interact with an OS  \n",
    "* \"A shell, or command line interpreter, is a program that interprets lines of text entered by a user, a file or a data stream\"  \n",
    "* Used for interactive sessions and scripting"
   ]
  },
  {
   "cell_type": "markdown",
   "id": "22e7f9dd-b65d-40ef-a90c-c715d330850f",
   "metadata": {
    "slideshow": {
     "slide_type": "slide"
    }
   },
   "source": [
    "# Common Unix Shells\n",
    "* `/bin/sh`\n",
    "  The POSIX Shell - compatible across all POSIX Systems.  Was the original Sys-V shell\n",
    "* `/bin/bash`\n",
    "  GNU Bourne Again Shell. Extends /bin/sh. Often the default shell on most Linux distros.\n",
    "* `/bin/zsh`\n",
    "  Z-Shell. Quite a few similarities to bash. The default shell in MacOS. available on Linux distros.\n",
    "* `/bin/tcsh`\n",
    "  The GNU \"C Shell\". Used by X-Midas/Studies community."
   ]
  },
  {
   "cell_type": "code",
   "execution_count": null,
   "id": "1e6fd209",
   "metadata": {
    "vscode": {
     "languageId": "plaintext"
    }
   },
   "outputs": [],
   "source": []
  },
  {
   "cell_type": "markdown",
   "id": "ef5fe8c5",
   "metadata": {
    "slideshow": {
     "slide_type": "slide"
    }
   },
   "source": [
    "# IO Redirection"
   ]
  },
  {
   "cell_type": "code",
   "execution_count": null,
   "id": "cfadb549",
   "metadata": {
    "slideshow": {
     "slide_type": "notes"
    }
   },
   "outputs": [],
   "source": [
    "initdemo # Reset demo"
   ]
  },
  {
   "cell_type": "code",
   "execution_count": null,
   "id": "6f192902",
   "metadata": {
    "slideshow": {
     "slide_type": "slide"
    }
   },
   "outputs": [],
   "source": [
    "cat file #file does not exists`"
   ]
  },
  {
   "cell_type": "code",
   "execution_count": null,
   "id": "95a394c5",
   "metadata": {
    "slideshow": {
     "slide_type": "slide"
    }
   },
   "outputs": [],
   "source": [
    "# Redirect stdin to a file\n",
    "echo \"Contents of file\" > file \n",
    "# Now the file exists\n",
    "cat file"
   ]
  },
  {
   "cell_type": "code",
   "execution_count": null,
   "id": "cba2b8ca",
   "metadata": {
    "slideshow": {
     "slide_type": "-"
    }
   },
   "outputs": [],
   "source": [
    "echo \"Appended line\" >> file # Append stdin to file\n",
    "cat file"
   ]
  },
  {
   "cell_type": "code",
   "execution_count": null,
   "id": "db27c190-fceb-46c5-8499-dcf8f48e9fa3",
   "metadata": {
    "slideshow": {
     "slide_type": "-"
    }
   },
   "outputs": [],
   "source": [
    "tr '[:lower:]' '[:upper:]' < file # Redirect file to stdin"
   ]
  },
  {
   "cell_type": "markdown",
   "id": "95c86658",
   "metadata": {
    "slideshow": {
     "slide_type": "slide"
    }
   },
   "source": [
    "# STDIN, STDOUT and STDERR\n",
    "\n",
    "\n",
    "Each unix process has an table of open files.  The index in this table represents the file descriptor number:\n",
    "![File Descriptors](img/file-descriptors.png)"
   ]
  },
  {
   "cell_type": "markdown",
   "id": "cf019641",
   "metadata": {
    "slideshow": {
     "slide_type": "slide"
    }
   },
   "source": [
    "# STDIN, STDOUT and STDERR\n",
    " 0. stdin  \n",
    " 1. stdout  \n",
    " 2. stderr"
   ]
  },
  {
   "cell_type": "markdown",
   "id": "f0d11067",
   "metadata": {
    "slideshow": {
     "slide_type": "slide"
    }
   },
   "source": [
    "# Here Documents"
   ]
  },
  {
   "cell_type": "code",
   "execution_count": null,
   "id": "a1ff0193",
   "metadata": {
    "slideshow": {
     "slide_type": "slide"
    }
   },
   "outputs": [],
   "source": [
    "cat <<< \"Sensitive password\"  # three left braces means send next argument to stdin"
   ]
  },
  {
   "cell_type": "code",
   "execution_count": null,
   "id": "a754f09f",
   "metadata": {},
   "outputs": [],
   "source": [
    "export MYVAR=FOO\n",
    "cat <<HEREDOC  # Two left braces means read until HEREDOC appears on first line\n",
    "This is a multi line document\n",
    "read from bash.  It keeps reading until\n",
    "the HEREDOC string is the first line.  Not\n",
    "that variables are expanded MYVAR=${MYVAR}\n",
    "HEREDOC"
   ]
  },
  {
   "cell_type": "markdown",
   "id": "490a8df8",
   "metadata": {
    "slideshow": {
     "slide_type": "slide"
    }
   },
   "source": [
    "# Pipes"
   ]
  },
  {
   "cell_type": "code",
   "execution_count": null,
   "id": "d91c8e9f",
   "metadata": {},
   "outputs": [],
   "source": [
    "cat <<EOF | grep Spain\n",
    "The rain\n",
    "in Spain\n",
    "falls mainly\n",
    "in the plain\n",
    "EOF"
   ]
  },
  {
   "cell_type": "markdown",
   "id": "31903996",
   "metadata": {},
   "source": [
    "### A named pipe"
   ]
  },
  {
   "cell_type": "code",
   "execution_count": null,
   "id": "43a021b0",
   "metadata": {},
   "outputs": [],
   "source": [
    "initdemo\n",
    "mkfifo mypipe  # Create named pipe named mypipe in CWD\n",
    "cat mypipe &"
   ]
  },
  {
   "cell_type": "code",
   "execution_count": null,
   "id": "97e4fd72",
   "metadata": {},
   "outputs": [],
   "source": [
    "echo \"hello, world\" > mypipe\n",
    "ls -l\n",
    "jobs"
   ]
  },
  {
   "cell_type": "code",
   "execution_count": null,
   "id": "07c4ebd9",
   "metadata": {},
   "outputs": [],
   "source": [
    "echo \"Echo to stdout\" | grep -v stdout  # No output here\n",
    "echo \"Echo to stderr\" 1>&2 | grep -v stderr # grep caught stdout, not stderr"
   ]
  },
  {
   "cell_type": "code",
   "execution_count": null,
   "id": "62604836",
   "metadata": {
    "vscode": {
     "languageId": "plaintext"
    }
   },
   "outputs": [],
   "source": [
    "# The C Shell\n",
    "* `/bin/csh` or `/bin/tcsh` (the Gnu version)\n",
    "* Integrated with X-Midas\n",
    "* Also used by X-Midas users as their default shell, although this is not required\n",
    "* Ushered in great interactive capabilities (history, ~, aliases)\n",
    "* Not in common usage since 90's (Sun Solaris 1.0 and original BSD)\n",
    "* Considered flawed and buggy by most developers"
   ]
  },
  {
   "cell_type": "code",
   "execution_count": null,
   "id": "4f925633",
   "metadata": {
    "vscode": {
     "languageId": "plaintext"
    }
   },
   "outputs": [],
   "source": [
    "# Example C-Shell Flaws\n",
    "* Missing functions\n",
    "* Cannot use complex commands in pipes\n",
    "  * No foreach | grep\n",
    "* Handling argument spaces is very tricky\n",
    "  * Missing `\"$@\"` equivalent in bash\n",
    "* Uses an ad-hoc parser (vs a formal grammar)\n",
    "## Example C Shell Flaw - IO Rediction in a line before remaining part of line\n",
    "```csh\n",
    "# Works as expected\n",
    "if ( ! -e myfile ) then\n",
    "   echo mytext > myfile\n",
    "endif\n",
    "\n",
    "# Always creates an empty file\n",
    "if (! -e myfile) echo mytext > myfile\n",
    "```"
   ]
  }
 ],
 "metadata": {
  "celltoolbar": "Slideshow",
  "kernelspec": {
   "display_name": "Bash",
   "language": "bash",
   "name": "bash"
  },
  "language_info": {
   "codemirror_mode": "shell",
   "file_extension": ".sh",
   "mimetype": "text/x-sh",
   "name": "bash"
  },
  "rise": {
   "scroll": true,
   "start_slideshow_at": "selected"
  }
 },
 "nbformat": 4,
 "nbformat_minor": 5
}
