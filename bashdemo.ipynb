{
 "cells": [
  {
   "cell_type": "code",
   "execution_count": null,
   "id": "b6a561df",
   "metadata": {
    "slideshow": {
     "slide_type": "notes"
    }
   },
   "outputs": [],
   "source": [
    "# Run to initialize demo\n",
    "[[ $(type -t initdemo) != function ]] && source initdemo\n",
    "initdemo --verbose"
   ]
  },
  {
   "cell_type": "markdown",
   "id": "c06785e1-4c0d-485e-a94d-f5c8ea1a82fc",
   "metadata": {
    "slideshow": {
     "slide_type": "slide"
    }
   },
   "source": [
    "# The Shell\n",
    "* Interact with an OS  \n",
    "* \"A shell, or command line interpreter, is a program that interprets lines of text entered by a user, a file or a data stream\"  \n",
    "* Used for both scripting and interactive sessions  "
   ]
  },
  {
   "cell_type": "markdown",
   "id": "22e7f9dd-b65d-40ef-a90c-c715d330850f",
   "metadata": {
    "slideshow": {
     "slide_type": "slide"
    }
   },
   "source": [
    "# Most Popular Unix Shells\n",
    "* Derive from the original SYSV Bourne shell /bin/sh\n",
    "* /bin/sh\n",
    "  The POSIX Shell - compatible across all POSIX Systems.\n",
    "* /bin/bash\n",
    "  GNU Bourne Again Shell. Extends /bin/sh. Often the default shell on most Linux distros.\n",
    "* /bin/zsh\n",
    "  Z-Shell. Quite a few similarities to bash. Now the default shell Mac, available on Linux distros."
   ]
  },
  {
   "cell_type": "markdown",
   "id": "bc6be562-ecb8-4410-a949-94f287005232",
   "metadata": {
    "slideshow": {
     "slide_type": "slide"
    }
   },
   "source": [
    "# The C Shell\n",
    "* /bin/csh or /bin/tcsh (the Gnu version)\n",
    "* Scripting used by X-Midas\n",
    "* Also used by X-Midas users as their default shell, although this is not required\n",
    "* Ushered in great interactive capabilities (history, ~, aliases)\n",
    "* Not in common usage since 90's (Sun Solaris and BSD)\n",
    "* Considered flawed and buggy by most developers"
   ]
  },
  {
   "cell_type": "markdown",
   "id": "7004a3c0",
   "metadata": {
    "slideshow": {
     "slide_type": "subslide"
    }
   },
   "source": [
    "# Example C-Shell Flaws\n",
    "* No functions\n",
    "* Cannot use complex commands in pipes\n",
    "  * No foreach | grep\n",
    "* Handling argument spaces is very tricky\n",
    "  * Missing `\"$@\"` equivalent in bash\n",
    "* Ad-hoc parser"
   ]
  },
  {
   "cell_type": "markdown",
   "id": "1318f3a5",
   "metadata": {
    "slideshow": {
     "slide_type": "subslide"
    }
   },
   "source": [
    "## Example C Shell Flaw - IO Rediction in a line before remaining part of line"
   ]
  },
  {
   "cell_type": "markdown",
   "id": "b972cc28",
   "metadata": {},
   "source": [
    "```csh\n",
    "# Works as expected\n",
    "if ( ! -e myfile ) then\n",
    "   echo mytext > myfile\n",
    "endif\n",
    "\n",
    "# Always creates an empty file\n",
    "if (! -e myfile) echo mytext > myfile\n",
    "```"
   ]
  },
  {
   "cell_type": "markdown",
   "id": "26e57c18",
   "metadata": {
    "slideshow": {
     "slide_type": "slide"
    }
   },
   "source": [
    "# IO Redirection"
   ]
  },
  {
   "cell_type": "code",
   "execution_count": 31,
   "id": "c562a5c3",
   "metadata": {
    "slideshow": {
     "slide_type": "-"
    }
   },
   "outputs": [
    {
     "name": "stdout",
     "output_type": "stream",
     "text": [
      "[INFO] demo reset\n"
     ]
    }
   ],
   "source": [
    "initdemo # Reset demo"
   ]
  },
  {
   "cell_type": "code",
   "execution_count": 32,
   "id": "1bd230aa",
   "metadata": {
    "slideshow": {
     "slide_type": "-"
    }
   },
   "outputs": [
    {
     "name": "stdout",
     "output_type": "stream",
     "text": [
      "cat: file: No such file or directory\n"
     ]
    },
    {
     "ename": "",
     "evalue": "1",
     "output_type": "error",
     "traceback": []
    }
   ],
   "source": [
    "cat file #file does not exists`"
   ]
  },
  {
   "cell_type": "code",
   "execution_count": 33,
   "id": "8f97e382",
   "metadata": {
    "slideshow": {
     "slide_type": "-"
    }
   },
   "outputs": [
    {
     "name": "stdout",
     "output_type": "stream",
     "text": [
      "Contents of file\n"
     ]
    }
   ],
   "source": [
    "echo \"Contents of file\" > file # Redirect stdin to file\n",
    "cat file"
   ]
  },
  {
   "cell_type": "code",
   "execution_count": 34,
   "id": "c1739311",
   "metadata": {
    "slideshow": {
     "slide_type": "-"
    }
   },
   "outputs": [
    {
     "name": "stdout",
     "output_type": "stream",
     "text": [
      "Contents of file\n",
      "Appended line\n"
     ]
    }
   ],
   "source": [
    "echo \"Appended line\" >> file # Append stdin to file\n",
    "cat file"
   ]
  },
  {
   "cell_type": "code",
   "execution_count": 35,
   "id": "db27c190-fceb-46c5-8499-dcf8f48e9fa3",
   "metadata": {
    "slideshow": {
     "slide_type": "-"
    }
   },
   "outputs": [
    {
     "name": "stdout",
     "output_type": "stream",
     "text": [
      "CONTENTS OF FILE\n",
      "APPENDED LINE\n"
     ]
    }
   ],
   "source": [
    "tr '[:lower:]' '[:upper:]' < file # Redirect file to stdin"
   ]
  },
  {
   "cell_type": "markdown",
   "id": "aa83fb07",
   "metadata": {
    "slideshow": {
     "slide_type": "slide"
    }
   },
   "source": [
    "# STDIN, STDOUT and STDERR\n",
    "\n",
    "\n",
    "Each unix process has an table of open files.  The index in this table represents the file descriptor number:\n",
    "![File Descriptors](img/file-descriptors.png)"
   ]
  },
  {
   "cell_type": "markdown",
   "id": "4791ec50",
   "metadata": {
    "slideshow": {
     "slide_type": "slide"
    }
   },
   "source": [
    "# STDIN, STDOUT and STDERR\n",
    " 0. stdin  \n",
    " 1. stdout  \n",
    " 2. stderr"
   ]
  },
  {
   "cell_type": "code",
   "execution_count": null,
   "id": "1d4f6948",
   "metadata": {},
   "outputs": [],
   "source": []
  }
 ],
 "metadata": {
  "celltoolbar": "Slideshow",
  "kernelspec": {
   "display_name": "Bash",
   "language": "bash",
   "name": "bash"
  },
  "language_info": {
   "codemirror_mode": "shell",
   "file_extension": ".sh",
   "mimetype": "text/x-sh",
   "name": "bash"
  }
 },
 "nbformat": 4,
 "nbformat_minor": 5
}
