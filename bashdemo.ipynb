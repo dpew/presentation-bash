{
 "cells": [
  {
   "cell_type": "code",
   "execution_count": 1,
   "id": "033d36a3",
   "metadata": {
    "slideshow": {
     "slide_type": "notes"
    }
   },
   "outputs": [
    {
     "name": "stdout",
     "output_type": "stream",
     "text": [
      "[INFO] JHOME=/home/dpew/src/presentations/presentation-bash\n",
      "[INFO] demo reset\n",
      "[INFO] demo reset\n"
     ]
    }
   ],
   "source": [
    "# Run to initialize demo\n",
    "[[ $(type -t initdemo) != function ]] && source initdemo\n",
    "initdemo --verbose\n",
    "\n",
    "# Now use alt-r to enter rise\n",
    "# Use Space to advance, Ctrl-Enter to Run"
   ]
  },
  {
   "cell_type": "markdown",
   "id": "4b635768",
   "metadata": {
    "slideshow": {
     "slide_type": "slide"
    },
    "vscode": {
     "languageId": "plaintext"
    }
   },
   "source": [
    "# A Quick Introduction to Linux and Bash\n"
   ]
  },
  {
   "cell_type": "code",
   "execution_count": null,
   "id": "891e33ff",
   "metadata": {
    "slideshow": {
     "slide_type": "fragment"
    },
    "vscode": {
     "languageId": "plaintext"
    }
   },
   "outputs": [],
   "source": [
    "This presentation is a brief introduction to Linux and the Bash shell. \n",
    "\n",
    "Linux is a UNIX like Operating System developed by Linus Torvalis in the 1990s.\n",
    "Linux is not techinically UNIX, as UNIX is a trademarked name owned by X.\n",
    "But much of this presentation will apply to other UN*X systems, like MacOS or Free BSD."
   ]
  },
  {
   "cell_type": "markdown",
   "id": "4285ec23",
   "metadata": {
    "slideshow": {
     "slide_type": "slide"
    },
    "vscode": {
     "languageId": "plaintext"
    }
   },
   "source": [
    "# The Unix Filesystem\n",
    "\n",
    "\n",
    "The Unix filesystem is a hierarchal collection of files starting with the root directory (/):"
   ]
  },
  {
   "cell_type": "code",
   "execution_count": null,
   "id": "6b2e8b55",
   "metadata": {
    "slideshow": {
     "slide_type": "fragment"
    },
    "vscode": {
     "languageId": "plaintext"
    }
   },
   "outputs": [],
   "source": [
    "# lets see the filesystem\n",
    "\n",
    "ls -l /"
   ]
  },
  {
   "cell_type": "markdown",
   "id": "888fe544",
   "metadata": {
    "slideshow": {
     "slide_type": "fragment"
    },
    "vscode": {
     "languageId": "plaintext"
    }
   },
   "source": [
    "# Most linux distros follow the Filesystem Hierarchy System (FHS). \n",
    "\n",
    "FHS specifies a standard location for files in UN*X, such as executables (commands that can be run, devices, shared libraries, etc.)"
   ]
  },
  {
   "cell_type": "markdown",
   "id": "c8992a7c",
   "metadata": {
    "slideshow": {
     "slide_type": "subslide"
    },
    "vscode": {
     "languageId": "plaintext"
    }
   },
   "source": [
    "## What is a file?\n",
    "\n",
    "A file in unix is one of:\n",
    "  - regular file\n",
    "  - directory\n",
    "  - character device\n",
    "  - block device\n",
    "  - FIFOs/ Named Pipes\n",
    "  - symbolic link\n",
    "  - socket"
   ]
  },
  {
   "cell_type": "code",
   "execution_count": 2,
   "id": "107e8635",
   "metadata": {
    "slideshow": {
     "slide_type": "fragment"
    },
    "vscode": {
     "languageId": "plaintext"
    }
   },
   "outputs": [],
   "source": [
    "# Let's make a file\n",
    "echo \"This is my data\" > data.txt"
   ]
  },
  {
   "cell_type": "code",
   "execution_count": null,
   "id": "8955927f",
   "metadata": {
    "slideshow": {
     "slide_type": "fragment"
    },
    "vscode": {
     "languageId": "plaintext"
    }
   },
   "outputs": [],
   "source": [
    "# cat displays the contents of a file\n",
    "cat data.txt"
   ]
  },
  {
   "cell_type": "markdown",
   "id": "24e0d512",
   "metadata": {
    "slideshow": {
     "slide_type": "subslide"
    }
   },
   "source": [
    "# Directory"
   ]
  },
  {
   "cell_type": "code",
   "execution_count": null,
   "id": "fadde681",
   "metadata": {
    "slideshow": {
     "slide_type": "fragment"
    },
    "vscode": {
     "languageId": "plaintext"
    }
   },
   "outputs": [],
   "source": [
    "# make a directory\n",
    "mkdir mydir"
   ]
  },
  {
   "cell_type": "code",
   "execution_count": null,
   "id": "4bd07165",
   "metadata": {
    "slideshow": {
     "slide_type": "fragment"
    },
    "vscode": {
     "languageId": "plaintext"
    }
   },
   "outputs": [],
   "source": [
    "# enter the mydir directory\n",
    "cd mydir"
   ]
  },
  {
   "cell_type": "code",
   "execution_count": null,
   "id": "590be95f",
   "metadata": {
    "slideshow": {
     "slide_type": "fragment"
    },
    "vscode": {
     "languageId": "plaintext"
    }
   },
   "outputs": [],
   "source": [
    "# Return to the parent directory\n",
    "cd .."
   ]
  },
  {
   "cell_type": "markdown",
   "id": "9b8288d9",
   "metadata": {
    "slideshow": {
     "slide_type": "subslide"
    },
    "vscode": {
     "languageId": "plaintext"
    }
   },
   "source": [
    "# Directory"
   ]
  },
  {
   "cell_type": "code",
   "execution_count": null,
   "id": "0f5d602e",
   "metadata": {
    "slideshow": {
     "slide_type": "fragment"
    },
    "vscode": {
     "languageId": "plaintext"
    }
   },
   "outputs": [],
   "source": [
    "# a directory contains links to inodes\n",
    "ls -l"
   ]
  },
  {
   "cell_type": "code",
   "execution_count": null,
   "id": "e7de631f",
   "metadata": {
    "slideshow": {
     "slide_type": "fragment"
    },
    "vscode": {
     "languageId": "plaintext"
    }
   },
   "outputs": [],
   "source": [
    "# one can create a new link to a file\n",
    "ln data.txt linked.txt"
   ]
  },
  {
   "cell_type": "code",
   "execution_count": null,
   "id": "69b8b41b",
   "metadata": {
    "slideshow": {
     "slide_type": "fragment"
    },
    "vscode": {
     "languageId": "plaintext"
    }
   },
   "outputs": [],
   "source": [
    "# Note the file now has an additional link\n",
    "ls -l"
   ]
  },
  {
   "cell_type": "code",
   "execution_count": null,
   "id": "d27541f4",
   "metadata": {
    "slideshow": {
     "slide_type": "fragment"
    },
    "vscode": {
     "languageId": "plaintext"
    }
   },
   "outputs": [],
   "source": [
    "# The data is the same\n",
    "cat linked.txt\n",
    "echo \"A new line\" >> linked.txt\n",
    "cat data.txt\n",
    "\n",
    "# links cannot go beyond a filesystem\n",
    "# This will probably not work\n",
    "# ln data.txt /tmp/data.txt\n",
    "\n",
    "# Removing one of the links, the inode still exists\n",
    "rm data.txt\n",
    "cat linked.txt\n",
    "\n",
    "# symbolic link is a pointer\n",
    "echo \"This is new data\" > newdata.txt\n",
    "ln -s newdata.txt symbolic.txt\n",
    "ls -l\n",
    "cat symbolic.txt\n",
    "\n",
    "# Look at the file types\n",
    "file *\n",
    "\n",
    "# When removing the original, the symlink no longer works\n",
    "rm newdata.txt\n",
    "ln -s\n",
    "cat symbolic.txt # an error"
   ]
  },
  {
   "cell_type": "markdown",
   "id": "8192476a",
   "metadata": {},
   "source": [
    "\n",
    "- \n",
    "```\n",
    "/\n",
    "  /bin\n",
    "  /dev\n",
    "  /etc\n",
    "  /home\n",
    "  /lib\n",
    "  /opt\n",
    "  /proc\n",
    "  /sbin\n",
    "  /tmp\n",
    "  /usr\n",
    "   /usr/bin\n",
    "    /usr/lib\n",
    "    /usr/local\n",
    "    /usr/sbin\n",
    "    /usr/share\n",
    "   /var\n",
    "    /var/log\n",
    "    /var/tmp\n",
    "```\n",
    "\n",
    "\n",
    "- Unix is a hierarchical collection of files and their attributes.\n",
    "- \n"
   ]
  },
  {
   "cell_type": "markdown",
   "id": "c06785e1-4c0d-485e-a94d-f5c8ea1a82fc",
   "metadata": {
    "slideshow": {
     "slide_type": "slide"
    }
   },
   "source": [
    "# The Shell\n",
    "* Interact with an OS  \n",
    "* \"A shell, or command line interpreter, is a program that interprets lines of text entered by a user, a file or a data stream\"  \n",
    "* Used for both scripting and interactive sessions  "
   ]
  },
  {
   "cell_type": "markdown",
   "id": "22e7f9dd-b65d-40ef-a90c-c715d330850f",
   "metadata": {
    "slideshow": {
     "slide_type": "slide"
    }
   },
   "source": [
    "# Common Unix Shells\n",
    "* `/bin/sh`\n",
    "  The POSIX Shell - compatible across all POSIX Systems.  Ws the original SYSV shell\n",
    "* `/bin/bash`\n",
    "  GNU Bourne Again Shell. Extends /bin/sh. Often the default shell on most Linux distros.\n",
    "* `/bin/zsh`\n",
    "  Z-Shell. Quite a few similarities to bash. The default shell in MacOS. available on Linux distros.\n",
    "* `/bin/tcsh`\n",
    "  The GNU \"C Shell\". Used by X-Midas/Studies community."
   ]
  },
  {
   "cell_type": "code",
   "execution_count": null,
   "id": "1e6fd209",
   "metadata": {
    "vscode": {
     "languageId": "plaintext"
    }
   },
   "outputs": [],
   "source": []
  },
  {
   "cell_type": "markdown",
   "id": "ef5fe8c5",
   "metadata": {
    "slideshow": {
     "slide_type": "slide"
    }
   },
   "source": [
    "# IO Redirection"
   ]
  },
  {
   "cell_type": "code",
   "execution_count": null,
   "id": "cfadb549",
   "metadata": {
    "slideshow": {
     "slide_type": "notes"
    }
   },
   "outputs": [],
   "source": [
    "initdemo # Reset demo"
   ]
  },
  {
   "cell_type": "code",
   "execution_count": null,
   "id": "6f192902",
   "metadata": {
    "slideshow": {
     "slide_type": "slide"
    }
   },
   "outputs": [],
   "source": [
    "cat file #file does not exists`"
   ]
  },
  {
   "cell_type": "code",
   "execution_count": null,
   "id": "95a394c5",
   "metadata": {
    "slideshow": {
     "slide_type": "slide"
    }
   },
   "outputs": [],
   "source": [
    "# Redirect stdin to a file\n",
    "echo \"Contents of file\" > file \n",
    "# Now the file exists\n",
    "cat file"
   ]
  },
  {
   "cell_type": "code",
   "execution_count": null,
   "id": "cba2b8ca",
   "metadata": {
    "slideshow": {
     "slide_type": "-"
    }
   },
   "outputs": [],
   "source": [
    "echo \"Appended line\" >> file # Append stdin to file\n",
    "cat file"
   ]
  },
  {
   "cell_type": "code",
   "execution_count": null,
   "id": "db27c190-fceb-46c5-8499-dcf8f48e9fa3",
   "metadata": {
    "slideshow": {
     "slide_type": "-"
    }
   },
   "outputs": [],
   "source": [
    "tr '[:lower:]' '[:upper:]' < file # Redirect file to stdin"
   ]
  },
  {
   "cell_type": "markdown",
   "id": "95c86658",
   "metadata": {
    "slideshow": {
     "slide_type": "slide"
    }
   },
   "source": [
    "# STDIN, STDOUT and STDERR\n",
    "\n",
    "\n",
    "Each unix process has an table of open files.  The index in this table represents the file descriptor number:\n",
    "![File Descriptors](img/file-descriptors.png)"
   ]
  },
  {
   "cell_type": "markdown",
   "id": "cf019641",
   "metadata": {
    "slideshow": {
     "slide_type": "slide"
    }
   },
   "source": [
    "# STDIN, STDOUT and STDERR\n",
    " 0. stdin  \n",
    " 1. stdout  \n",
    " 2. stderr"
   ]
  },
  {
   "cell_type": "markdown",
   "id": "f0d11067",
   "metadata": {
    "slideshow": {
     "slide_type": "slide"
    }
   },
   "source": [
    "# Here Documents"
   ]
  },
  {
   "cell_type": "code",
   "execution_count": null,
   "id": "a1ff0193",
   "metadata": {
    "slideshow": {
     "slide_type": "slide"
    }
   },
   "outputs": [],
   "source": [
    "cat <<< \"Sensitive password\"  # three left braces means send next argument to stdin"
   ]
  },
  {
   "cell_type": "code",
   "execution_count": null,
   "id": "a754f09f",
   "metadata": {},
   "outputs": [],
   "source": [
    "export MYVAR=FOO\n",
    "cat <<HEREDOC  # Two left braces means read until HEREDOC appears on first line\n",
    "This is a multi line document\n",
    "read from bash.  It keeps reading until\n",
    "the HEREDOC string is the first line.  Not\n",
    "that variables are expanded MYVAR=${MYVAR}\n",
    "HEREDOC"
   ]
  },
  {
   "cell_type": "markdown",
   "id": "490a8df8",
   "metadata": {
    "slideshow": {
     "slide_type": "slide"
    }
   },
   "source": [
    "# Pipes"
   ]
  },
  {
   "cell_type": "code",
   "execution_count": null,
   "id": "d91c8e9f",
   "metadata": {},
   "outputs": [],
   "source": [
    "cat <<EOF | grep Spain\n",
    "The rain\n",
    "in Spain\n",
    "falls mainly\n",
    "in the plain\n",
    "EOF"
   ]
  },
  {
   "cell_type": "markdown",
   "id": "31903996",
   "metadata": {},
   "source": [
    "### A named pipe"
   ]
  },
  {
   "cell_type": "code",
   "execution_count": null,
   "id": "43a021b0",
   "metadata": {},
   "outputs": [],
   "source": [
    "initdemo\n",
    "mkfifo mypipe  # Create named pipe named mypipe in CWD\n",
    "cat mypipe &"
   ]
  },
  {
   "cell_type": "code",
   "execution_count": null,
   "id": "97e4fd72",
   "metadata": {},
   "outputs": [],
   "source": [
    "echo \"hello, world\" > mypipe\n",
    "ls -l\n",
    "jobs"
   ]
  },
  {
   "cell_type": "code",
   "execution_count": null,
   "id": "07c4ebd9",
   "metadata": {},
   "outputs": [],
   "source": [
    "echo \"Echo to stdout\" | grep -v stdout  # No output here\n",
    "echo \"Echo to stderr\" 1>&2 | grep -v stderr # grep caught stdout, not stderr"
   ]
  },
  {
   "cell_type": "code",
   "execution_count": null,
   "id": "62604836",
   "metadata": {
    "vscode": {
     "languageId": "plaintext"
    }
   },
   "outputs": [],
   "source": [
    "# The C Shell\n",
    "* `/bin/csh` or `/bin/tcsh` (the Gnu version)\n",
    "* Integrated with X-Midas\n",
    "* Also used by X-Midas users as their default shell, although this is not required\n",
    "* Ushered in great interactive capabilities (history, ~, aliases)\n",
    "* Not in common usage since 90's (Sun Solaris 1.0 and original BSD)\n",
    "* Considered flawed and buggy by most developers"
   ]
  },
  {
   "cell_type": "code",
   "execution_count": null,
   "id": "4f925633",
   "metadata": {
    "vscode": {
     "languageId": "plaintext"
    }
   },
   "outputs": [],
   "source": [
    "# Example C-Shell Flaws\n",
    "* Missing functions\n",
    "* Cannot use complex commands in pipes\n",
    "  * No foreach | grep\n",
    "* Handling argument spaces is very tricky\n",
    "  * Missing `\"$@\"` equivalent in bash\n",
    "* Uses an ad-hoc parser (vs a formal grammar)\n",
    "## Example C Shell Flaw - IO Rediction in a line before remaining part of line\n",
    "```csh\n",
    "# Works as expected\n",
    "if ( ! -e myfile ) then\n",
    "   echo mytext > myfile\n",
    "endif\n",
    "\n",
    "# Always creates an empty file\n",
    "if (! -e myfile) echo mytext > myfile\n",
    "```"
   ]
  }
 ],
 "metadata": {
  "celltoolbar": "Slideshow",
  "kernelspec": {
   "display_name": "Bash",
   "language": "bash",
   "name": "bash"
  },
  "language_info": {
   "codemirror_mode": "shell",
   "file_extension": ".sh",
   "mimetype": "text/x-sh",
   "name": "bash"
  },
  "rise": {
   "enable_chalkboard": true,
   "scroll": true,
   "start_slideshow_at": "beginning",
   "theme": "league"
  }
 },
 "nbformat": 4,
 "nbformat_minor": 5
}
