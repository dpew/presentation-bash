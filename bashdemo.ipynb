{
 "cells": [
  {
   "cell_type": "code",
   "execution_count": null,
   "id": "da8021cf",
   "metadata": {
    "slideshow": {
     "slide_type": "notes"
    }
   },
   "outputs": [],
   "source": [
    "# Run to initialize demo\n",
    "[[ $(type -t initdemo) != function ]] && source initdemo\n",
    "initdemo --verbose"
   ]
  },
  {
   "cell_type": "markdown",
   "id": "c06785e1-4c0d-485e-a94d-f5c8ea1a82fc",
   "metadata": {
    "slideshow": {
     "slide_type": "slide"
    }
   },
   "source": [
    "# The Shell\n",
    "* Interact with an OS  \n",
    "* \"A shell, or command line interpreter, is a program that interprets lines of text entered by a user, a file or a data stream\"  \n",
    "* Used for both scripting and interactive sessions  "
   ]
  },
  {
   "cell_type": "markdown",
   "id": "22e7f9dd-b65d-40ef-a90c-c715d330850f",
   "metadata": {
    "slideshow": {
     "slide_type": "slide"
    }
   },
   "source": [
    "# Most Popular Unix Shells\n",
    "* Derive from the original SYSV Bourne shell /bin/sh\n",
    "* /bin/sh\n",
    "  The POSIX Shell - compatible across all POSIX Systems.\n",
    "* /bin/bash\n",
    "  GNU Bourne Again Shell. Extends /bin/sh. Often the default shell on most Linux distros.\n",
    "* /bin/zsh\n",
    "  Z-Shell. Quite a few similarities to bash. Now the default shell Mac, available on Linux distros."
   ]
  },
  {
   "cell_type": "markdown",
   "id": "bc6be562-ecb8-4410-a949-94f287005232",
   "metadata": {
    "slideshow": {
     "slide_type": "slide"
    }
   },
   "source": [
    "# The C Shell\n",
    "* /bin/csh or /bin/tcsh (the Gnu version)\n",
    "* Scripting used by X-Midas\n",
    "* Also used by X-Midas users as their default shell, although this is not required\n",
    "* Ushered in great interactive capabilities (history, ~, aliases)\n",
    "* Not in common usage since 90's (Sun Solaris and BSD)\n",
    "* Considered flawed and buggy by most developers"
   ]
  },
  {
   "cell_type": "markdown",
   "id": "2cf93fe1",
   "metadata": {
    "slideshow": {
     "slide_type": "subslide"
    }
   },
   "source": [
    "# Example C-Shell Flaws\n",
    "* No functions\n",
    "* Cannot use complex commands in pipes\n",
    "  * No foreach | grep\n",
    "* Handling argument spaces is very tricky\n",
    "  * Missing `\"$@\"` equivalent in bash\n",
    "* Ad-hoc parser"
   ]
  },
  {
   "cell_type": "markdown",
   "id": "8831cf13",
   "metadata": {
    "slideshow": {
     "slide_type": "subslide"
    }
   },
   "source": [
    "## Example C Shell Flaw - IO Rediction in a line before remaining part of line"
   ]
  },
  {
   "cell_type": "markdown",
   "id": "a15e988c",
   "metadata": {},
   "source": [
    "```csh\n",
    "# Works as expected\n",
    "if ( ! -e myfile ) then\n",
    "   echo mytext > myfile\n",
    "endif\n",
    "\n",
    "# Always creates an empty file\n",
    "if (! -e myfile) echo mytext > myfile\n",
    "```"
   ]
  },
  {
   "cell_type": "markdown",
   "id": "fe02d021",
   "metadata": {
    "slideshow": {
     "slide_type": "slide"
    }
   },
   "source": [
    "# IO Redirection"
   ]
  },
  {
   "cell_type": "code",
   "execution_count": 31,
   "id": "62e29ce6",
   "metadata": {
    "slideshow": {
     "slide_type": "-"
    }
   },
   "outputs": [
    {
     "name": "stdout",
     "output_type": "stream",
     "text": [
      "[INFO] demo reset\n"
     ]
    }
   ],
   "source": [
    "initdemo # Reset demo"
   ]
  },
  {
   "cell_type": "code",
   "execution_count": 32,
   "id": "ee949e28",
   "metadata": {
    "slideshow": {
     "slide_type": "-"
    }
   },
   "outputs": [
    {
     "name": "stdout",
     "output_type": "stream",
     "text": [
      "cat: file: No such file or directory\n"
     ]
    },
    {
     "ename": "",
     "evalue": "1",
     "output_type": "error",
     "traceback": []
    }
   ],
   "source": [
    "cat file #file does not exists`"
   ]
  },
  {
   "cell_type": "code",
   "execution_count": 33,
   "id": "4db7b53d",
   "metadata": {
    "slideshow": {
     "slide_type": "-"
    }
   },
   "outputs": [
    {
     "name": "stdout",
     "output_type": "stream",
     "text": [
      "Contents of file\n"
     ]
    }
   ],
   "source": [
    "echo \"Contents of file\" > file # Redirect stdin to file\n",
    "cat file"
   ]
  },
  {
   "cell_type": "code",
   "execution_count": 34,
   "id": "19a39f04",
   "metadata": {
    "slideshow": {
     "slide_type": "-"
    }
   },
   "outputs": [
    {
     "name": "stdout",
     "output_type": "stream",
     "text": [
      "Contents of file\n",
      "Appended line\n"
     ]
    }
   ],
   "source": [
    "echo \"Appended line\" >> file # Append stdin to file\n",
    "cat file"
   ]
  },
  {
   "cell_type": "code",
   "execution_count": 35,
   "id": "db27c190-fceb-46c5-8499-dcf8f48e9fa3",
   "metadata": {
    "slideshow": {
     "slide_type": "-"
    }
   },
   "outputs": [
    {
     "name": "stdout",
     "output_type": "stream",
     "text": [
      "CONTENTS OF FILE\n",
      "APPENDED LINE\n"
     ]
    }
   ],
   "source": [
    "tr '[:lower:]' '[:upper:]' < file # Redirect file to stdin"
   ]
  },
  {
   "cell_type": "markdown",
   "id": "a58b6ab7",
   "metadata": {
    "slideshow": {
     "slide_type": "slide"
    }
   },
   "source": [
    "# STDIN, STDOUT and STDERR\n",
    "\n",
    "\n",
    "Each unix process has an table of open files.  The index in this table represents the file descriptor number:\n",
    "![File Descriptors](img/file-descriptors.png)"
   ]
  },
  {
   "cell_type": "markdown",
   "id": "1a04a5d7",
   "metadata": {
    "slideshow": {
     "slide_type": "slide"
    }
   },
   "source": [
    "# STDIN, STDOUT and STDERR\n",
    " 0. stdin  \n",
    " 1. stdout  \n",
    " 2. stderr"
   ]
  },
  {
   "cell_type": "markdown",
   "id": "40c7356a",
   "metadata": {
    "slideshow": {
     "slide_type": "slide"
    }
   },
   "source": [
    "# Here Documents"
   ]
  },
  {
   "cell_type": "code",
   "execution_count": 42,
   "id": "3b6888e7",
   "metadata": {
    "slideshow": {
     "slide_type": "slide"
    }
   },
   "outputs": [
    {
     "name": "stdout",
     "output_type": "stream",
     "text": [
      "Sensitive password\n"
     ]
    }
   ],
   "source": [
    "cat <<< \"Sensitive password\"  # three left braces means send next argument to stdin"
   ]
  },
  {
   "cell_type": "code",
   "execution_count": 49,
   "id": "daf0126b",
   "metadata": {},
   "outputs": [
    {
     "name": "stdout",
     "output_type": "stream",
     "text": [
      "This is a multi line document\n",
      "read from bash.  It keeps reading until\n",
      "the HEREDOC string is the first line.  Not\n",
      "that variables are expanded MYVAR=FOO\n"
     ]
    }
   ],
   "source": [
    "export MYVAR=FOO\n",
    "cat <<HEREDOC  # Two left braces means read until HEREDOC appears on first line\n",
    "This is a multi line document\n",
    "read from bash.  It keeps reading until\n",
    "the HEREDOC string is the first line.  Not\n",
    "that variables are expanded MYVAR=${MYVAR}\n",
    "HEREDOC"
   ]
  },
  {
   "cell_type": "markdown",
   "id": "264ccbef",
   "metadata": {
    "slideshow": {
     "slide_type": "slide"
    }
   },
   "source": [
    "# Pipes"
   ]
  },
  {
   "cell_type": "code",
   "execution_count": 76,
   "id": "e1eb1456",
   "metadata": {},
   "outputs": [
    {
     "name": "stdout",
     "output_type": "stream",
     "text": [
      "in Spain\n"
     ]
    }
   ],
   "source": [
    "cat <<EOF | grep Spain\n",
    "The rain\n",
    "in Spain\n",
    "falls mainly\n",
    "in the plain\n",
    "EOF"
   ]
  },
  {
   "cell_type": "markdown",
   "id": "5b8b08c9",
   "metadata": {},
   "source": [
    "### A named pipe"
   ]
  },
  {
   "cell_type": "code",
   "execution_count": 77,
   "id": "2d7e3293",
   "metadata": {},
   "outputs": [
    {
     "name": "stdout",
     "output_type": "stream",
     "text": [
      "[INFO] demo reset\n",
      "[1] 72209\n",
      "hello, world\n",
      "[1]+  Done                    cat mypipe\n"
     ]
    }
   ],
   "source": [
    "initdemo\n",
    "mkfifo mypipe  # Create named pipe named mypipe in CWD\n",
    "cat mypipe & \n",
    "echo \"hello, world\" > mypipe\n",
    "sleep .5 # ensure we capture stdout\n"
   ]
  },
  {
   "cell_type": "code",
   "execution_count": 39,
   "id": "baa4c459",
   "metadata": {},
   "outputs": [
    {
     "name": "stdout",
     "output_type": "stream",
     "text": [
      "Echo to stderr\n"
     ]
    },
    {
     "ename": "",
     "evalue": "1",
     "output_type": "error",
     "traceback": []
    }
   ],
   "source": [
    "echo \"Echo to stdout\" | grep -v stdout  # No output here\n",
    "echo \"Echo to stderr\" 1>&2 | grep -v stderr # grep caught stdout, not stderr"
   ]
  }
 ],
 "metadata": {
  "celltoolbar": "Slideshow",
  "kernelspec": {
   "display_name": "Bash",
   "language": "bash",
   "name": "bash"
  },
  "language_info": {
   "codemirror_mode": "shell",
   "file_extension": ".sh",
   "mimetype": "text/x-sh",
   "name": "bash"
  }
 },
 "nbformat": 4,
 "nbformat_minor": 5
}
