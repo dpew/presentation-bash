{
 "cells": [
  {
   "cell_type": "code",
   "execution_count": 2,
   "id": "033d36a3",
   "metadata": {
    "slideshow": {
     "slide_type": "notes"
    }
   },
   "outputs": [
    {
     "name": "stdout",
     "output_type": "stream",
     "text": [
      "[INFO] JHOME=/home/dpew/src/presentations/presentation-bash\n",
      "[INFO] demo reset\n",
      "[INFO] demo reset\n"
     ]
    }
   ],
   "source": [
    "# Run to initialize demo\n",
    "[[ $(type -t initdemo) != function ]] && source initdemo\n",
    "initdemo --verbose\n",
    "\n",
    "# Now use alt-r to enter rise\n",
    "# Use Space to advance, Ctrl-Enter to Run"
   ]
  },
  {
   "cell_type": "markdown",
   "id": "4b635768",
   "metadata": {
    "vscode": {
     "languageId": "plaintext"
    }
   },
   "source": [
    "# A Quick Introduction to Linux and Bash\n"
   ]
  },
  {
   "cell_type": "markdown",
   "id": "c06785e1-4c0d-485e-a94d-f5c8ea1a82fc",
   "metadata": {
    "slideshow": {
     "slide_type": "slide"
    }
   },
   "source": [
    "# The Shell\n",
    "* Interact with an OS  \n",
    "* \"A shell, or command line interpreter, is a program that interprets lines of text entered by a user, a file or a data stream\"  \n",
    "* Used for both scripting and interactive sessions  "
   ]
  },
  {
   "cell_type": "markdown",
   "id": "22e7f9dd-b65d-40ef-a90c-c715d330850f",
   "metadata": {
    "slideshow": {
     "slide_type": "slide"
    }
   },
   "source": [
    "# Common Unix Shells\n",
    "* `/bin/sh`\n",
    "  The POSIX Shell - compatible across all POSIX Systems.  Ws the original SYSV shell\n",
    "* `/bin/bash`\n",
    "  GNU Bourne Again Shell. Extends /bin/sh. Often the default shell on most Linux distros.\n",
    "* `/bin/zsh`\n",
    "  Z-Shell. Quite a few similarities to bash. The default shell in MacOS. available on Linux distros.\n",
    "* `/bin/tcsh`\n",
    "  The GNU \"C Shell\". Used by X-Midas/Studies community."
   ]
  },
  {
   "cell_type": "markdown",
   "id": "bc6be562-ecb8-4410-a949-94f287005232",
   "metadata": {
    "slideshow": {
     "slide_type": "slide"
    }
   },
   "source": [
    "# The C Shell\n",
    "* `/bin/csh` or `/bin/tcsh` (the Gnu version)\n",
    "* Integrated with X-Midas\n",
    "* Also used by X-Midas users as their default shell, although this is not required\n",
    "* Ushered in great interactive capabilities (history, ~, aliases)\n",
    "* Not in common usage since 90's (Sun Solaris 1.0 and original BSD)\n",
    "* Considered flawed and buggy by most developers"
   ]
  },
  {
   "cell_type": "markdown",
   "id": "5513d6c0",
   "metadata": {
    "slideshow": {
     "slide_type": "subslide"
    }
   },
   "source": [
    "# Example C-Shell Flaws\n",
    "* Missing functions\n",
    "* Cannot use complex commands in pipes\n",
    "  * No foreach | grep\n",
    "* Handling argument spaces is very tricky\n",
    "  * Missing `\"$@\"` equivalent in bash\n",
    "* Uses an ad-hoc parser (vs a formal grammar)"
   ]
  },
  {
   "cell_type": "markdown",
   "id": "44a0b171",
   "metadata": {
    "slideshow": {
     "slide_type": "subslide"
    }
   },
   "source": [
    "## Example C Shell Flaw - IO Rediction in a line before remaining part of line"
   ]
  },
  {
   "cell_type": "markdown",
   "id": "e9f903b3",
   "metadata": {},
   "source": [
    "```csh\n",
    "# Works as expected\n",
    "if ( ! -e myfile ) then\n",
    "   echo mytext > myfile\n",
    "endif\n",
    "\n",
    "# Always creates an empty file\n",
    "if (! -e myfile) echo mytext > myfile\n",
    "```"
   ]
  },
  {
   "cell_type": "markdown",
   "id": "ef5fe8c5",
   "metadata": {
    "slideshow": {
     "slide_type": "slide"
    }
   },
   "source": [
    "# IO Redirection"
   ]
  },
  {
   "cell_type": "code",
   "execution_count": 4,
   "id": "cfadb549",
   "metadata": {
    "slideshow": {
     "slide_type": "notes"
    }
   },
   "outputs": [
    {
     "name": "stdout",
     "output_type": "stream",
     "text": [
      "[INFO] demo reset\n"
     ]
    }
   ],
   "source": [
    "initdemo # Reset demo"
   ]
  },
  {
   "cell_type": "code",
   "execution_count": 5,
   "id": "6f192902",
   "metadata": {
    "slideshow": {
     "slide_type": "slide"
    }
   },
   "outputs": [
    {
     "name": "stdout",
     "output_type": "stream",
     "text": [
      "cat: file: No such file or directory\n"
     ]
    },
    {
     "ename": "",
     "evalue": "1",
     "output_type": "error",
     "traceback": []
    }
   ],
   "source": [
    "cat file #file does not exists`"
   ]
  },
  {
   "cell_type": "code",
   "execution_count": 6,
   "id": "95a394c5",
   "metadata": {
    "slideshow": {
     "slide_type": "slide"
    }
   },
   "outputs": [
    {
     "name": "stdout",
     "output_type": "stream",
     "text": [
      "Contents of file\n"
     ]
    }
   ],
   "source": [
    "# Redirect stdin to a file\n",
    "echo \"Contents of file\" > file \n",
    "# Now the file exists\n",
    "cat file"
   ]
  },
  {
   "cell_type": "code",
   "execution_count": 7,
   "id": "cba2b8ca",
   "metadata": {
    "slideshow": {
     "slide_type": "-"
    }
   },
   "outputs": [
    {
     "name": "stdout",
     "output_type": "stream",
     "text": [
      "Contents of file\n",
      "Appended line\n"
     ]
    }
   ],
   "source": [
    "echo \"Appended line\" >> file # Append stdin to file\n",
    "cat file"
   ]
  },
  {
   "cell_type": "code",
   "execution_count": 8,
   "id": "db27c190-fceb-46c5-8499-dcf8f48e9fa3",
   "metadata": {
    "slideshow": {
     "slide_type": "-"
    }
   },
   "outputs": [
    {
     "name": "stdout",
     "output_type": "stream",
     "text": [
      "CONTENTS OF FILE\n",
      "APPENDED LINE\n"
     ]
    }
   ],
   "source": [
    "tr '[:lower:]' '[:upper:]' < file # Redirect file to stdin"
   ]
  },
  {
   "cell_type": "markdown",
   "id": "95c86658",
   "metadata": {
    "slideshow": {
     "slide_type": "slide"
    }
   },
   "source": [
    "# STDIN, STDOUT and STDERR\n",
    "\n",
    "\n",
    "Each unix process has an table of open files.  The index in this table represents the file descriptor number:\n",
    "![File Descriptors](img/file-descriptors.png)"
   ]
  },
  {
   "cell_type": "markdown",
   "id": "cf019641",
   "metadata": {
    "slideshow": {
     "slide_type": "slide"
    }
   },
   "source": [
    "# STDIN, STDOUT and STDERR\n",
    " 0. stdin  \n",
    " 1. stdout  \n",
    " 2. stderr"
   ]
  },
  {
   "cell_type": "markdown",
   "id": "f0d11067",
   "metadata": {
    "slideshow": {
     "slide_type": "slide"
    }
   },
   "source": [
    "# Here Documents"
   ]
  },
  {
   "cell_type": "code",
   "execution_count": 9,
   "id": "a1ff0193",
   "metadata": {
    "slideshow": {
     "slide_type": "slide"
    }
   },
   "outputs": [
    {
     "name": "stdout",
     "output_type": "stream",
     "text": [
      "Sensitive password\n"
     ]
    }
   ],
   "source": [
    "cat <<< \"Sensitive password\"  # three left braces means send next argument to stdin"
   ]
  },
  {
   "cell_type": "code",
   "execution_count": 10,
   "id": "a754f09f",
   "metadata": {},
   "outputs": [
    {
     "name": "stdout",
     "output_type": "stream",
     "text": [
      "This is a multi line document\n",
      "read from bash.  It keeps reading until\n",
      "the HEREDOC string is the first line.  Not\n",
      "that variables are expanded MYVAR=FOO\n"
     ]
    }
   ],
   "source": [
    "export MYVAR=FOO\n",
    "cat <<HEREDOC  # Two left braces means read until HEREDOC appears on first line\n",
    "This is a multi line document\n",
    "read from bash.  It keeps reading until\n",
    "the HEREDOC string is the first line.  Not\n",
    "that variables are expanded MYVAR=${MYVAR}\n",
    "HEREDOC"
   ]
  },
  {
   "cell_type": "markdown",
   "id": "490a8df8",
   "metadata": {
    "slideshow": {
     "slide_type": "slide"
    }
   },
   "source": [
    "# Pipes"
   ]
  },
  {
   "cell_type": "code",
   "execution_count": 11,
   "id": "d91c8e9f",
   "metadata": {},
   "outputs": [
    {
     "name": "stdout",
     "output_type": "stream",
     "text": [
      "in Spain\n"
     ]
    }
   ],
   "source": [
    "cat <<EOF | grep Spain\n",
    "The rain\n",
    "in Spain\n",
    "falls mainly\n",
    "in the plain\n",
    "EOF"
   ]
  },
  {
   "cell_type": "markdown",
   "id": "31903996",
   "metadata": {},
   "source": [
    "### A named pipe"
   ]
  },
  {
   "cell_type": "code",
   "execution_count": 3,
   "id": "43a021b0",
   "metadata": {},
   "outputs": [
    {
     "name": "stdout",
     "output_type": "stream",
     "text": [
      "[INFO] demo reset\n",
      "[2] 27072\n"
     ]
    }
   ],
   "source": [
    "initdemo\n",
    "mkfifo mypipe  # Create named pipe named mypipe in CWD\n",
    "cat mypipe &"
   ]
  },
  {
   "cell_type": "code",
   "execution_count": null,
   "id": "97e4fd72",
   "metadata": {},
   "outputs": [],
   "source": [
    "echo \"hello, world\" > mypipe\n",
    "ls -l\n",
    "jobs"
   ]
  },
  {
   "cell_type": "code",
   "execution_count": null,
   "id": "07c4ebd9",
   "metadata": {},
   "outputs": [],
   "source": [
    "echo \"Echo to stdout\" | grep -v stdout  # No output here\n",
    "echo \"Echo to stderr\" 1>&2 | grep -v stderr # grep caught stdout, not stderr"
   ]
  }
 ],
 "metadata": {
  "celltoolbar": "Slideshow",
  "kernelspec": {
   "display_name": "Bash",
   "language": "bash",
   "name": "bash"
  },
  "language_info": {
   "codemirror_mode": "shell",
   "file_extension": ".sh",
   "mimetype": "text/x-sh",
   "name": "bash"
  }
 },
 "nbformat": 4,
 "nbformat_minor": 5
}
