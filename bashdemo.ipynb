{
 "cells": [
  {
   "cell_type": "code",
   "execution_count": 1,
   "id": "033d36a3",
   "metadata": {
    "scrolled": true,
    "slideshow": {
     "slide_type": "notes"
    }
   },
   "outputs": [
    {
     "name": "stdout",
     "output_type": "stream",
     "text": [
      "[INFO] JHOME=/home/dpew/src/presentations/presentation-bash\n",
      "/bin/rm: cannot remove 'playground/dir3/nested/file': Permission denied\n",
      "[INFO] demo reset\n",
      "/bin/rm: cannot remove 'playground/dir3/nested/file': Permission denied\n",
      "[INFO] demo reset\n"
     ]
    }
   ],
   "source": [
    "# Run to initialize demo\n",
    "[[ $(type -t initdemo) != function ]] && source initdemo\n",
    "initdemo --verbose\n",
    "\n",
    "# Now use alt-r to enter rise\n",
    "# Use Space to advance, Ctrl-Enter to Run"
   ]
  },
  {
   "cell_type": "markdown",
   "id": "4b635768",
   "metadata": {
    "slideshow": {
     "slide_type": "slide"
    },
    "vscode": {
     "languageId": "plaintext"
    }
   },
   "source": [
    "# An Overview of Linux and Bash\n",
    "\n",
    "\n",
    "This is a brief overview of Linux OS and the Bash shell. \n",
    "\n",
    "Linux is a UNIX like Operating System developed by Linus Torvalis in the 1990s.\n",
    "Linux is not technically UNIX, as UNIX is a trademarked name owned by X.\n",
    "Much of this presentation is applicable to all UN*X systems, such as MacOS and Free BSD."
   ]
  },
  {
   "cell_type": "markdown",
   "id": "4285ec23",
   "metadata": {
    "slideshow": {
     "slide_type": "slide"
    },
    "vscode": {
     "languageId": "plaintext"
    }
   },
   "source": [
    "# The Unix Filesystem\n",
    "\n",
    "\n",
    "The Unix filesystem is a hierarchal collection of files starting with the root directory (/):"
   ]
  },
  {
   "cell_type": "code",
   "execution_count": 3,
   "id": "6b2e8b55",
   "metadata": {
    "slideshow": {
     "slide_type": "fragment"
    },
    "vscode": {
     "languageId": "plaintext"
    }
   },
   "outputs": [
    {
     "name": "stdout",
     "output_type": "stream",
     "text": [
      "total 1500\n",
      "drwxr-xr-x   3 root root    4096 Apr 24  2023 Docker\n",
      "lrwxrwxrwx   1 root root       7 Apr 23  2020 bin -> usr/bin\n",
      "drwxr-xr-x   2 root root    4096 Apr 23  2020 boot\n",
      "drwxr-xr-x   9 root root    3080 Jun  2 12:34 dev\n",
      "drwxr-xr-x 128 root root   12288 Jun  2 12:33 etc\n",
      "drwxr-xr-x   4 root root    4096 Nov  6  2022 home\n",
      "-rwxr-xr-x   3 root root 1440152 May  7  2022 init\n",
      "lrwxrwxrwx   1 root root       7 Apr 23  2020 lib -> usr/lib\n",
      "lrwxrwxrwx   1 root root       9 Apr 23  2020 lib32 -> usr/lib32\n",
      "lrwxrwxrwx   1 root root       9 Apr 23  2020 lib64 -> usr/lib64\n",
      "lrwxrwxrwx   1 root root      10 Apr 23  2020 libx32 -> usr/libx32\n",
      "drwx------   2 root root   16384 Apr 10  2019 lost+found\n",
      "drwxr-xr-x   2 root root    4096 Apr 23  2020 media\n",
      "drwxr-xr-x   5 root root    4096 Oct 18  2022 mnt\n",
      "drwxr-xr-x   3 root root    4096 Jan 31  2022 opt\n",
      "dr-xr-xr-x 401 root root       0 Jun  2 12:33 proc\n",
      "drwx------   7 root root    4096 Oct 25  2022 root\n",
      "drwxr-xr-x   7 root root     200 Jun  2 12:34 run\n",
      "lrwxrwxrwx   1 root root       8 Apr 23  2020 sbin -> usr/sbin\n",
      "drwxr-xr-x   2 root root    4096 Apr 10  2020 snap\n",
      "drwxr-xr-x   2 root root    4096 Apr 23  2020 srv\n",
      "dr-xr-xr-x  11 root root       0 Jun  2 12:33 sys\n",
      "drwxrwxrwt  97 root root   20480 Jun  2 15:06 tmp\n",
      "drwxr-xr-x  14 root root    4096 Apr 23  2020 usr\n",
      "drwxr-xr-x  13 root root    4096 Apr 23  2020 var\n"
     ]
    }
   ],
   "source": [
    "# lets see the filesystem\n",
    "\n",
    "ls -l /"
   ]
  },
  {
   "cell_type": "markdown",
   "id": "888fe544",
   "metadata": {
    "slideshow": {
     "slide_type": "subslide"
    },
    "vscode": {
     "languageId": "plaintext"
    }
   },
   "source": [
    "# Most linux distros follow the Filesystem Hierarchy System (FHS). \n",
    "\n",
    "FHS specifies a standard location for files in UN*X, such as executables (commands that can be run, devices, shared libraries, etc.)"
   ]
  },
  {
   "cell_type": "markdown",
   "id": "15a01c2a",
   "metadata": {
    "slideshow": {
     "slide_type": "subslide"
    },
    "vscode": {
     "languageId": "plaintext"
    }
   },
   "source": [
    "## What is a file?\n",
    "\n",
    "A file in unix is one of:\n",
    "  - regular file\n",
    "  - directory\n",
    "  - character device\n",
    "  - block device\n",
    "  - FIFOs/ Named Pipes\n",
    "  - symbolic link\n",
    "  - socket"
   ]
  },
  {
   "cell_type": "markdown",
   "id": "f413fbbd",
   "metadata": {
    "slideshow": {
     "slide_type": "subslide"
    },
    "vscode": {
     "languageId": "plaintext"
    }
   },
   "source": [
    "# Regular Files"
   ]
  },
  {
   "cell_type": "code",
   "execution_count": 42,
   "id": "035dec7b",
   "metadata": {
    "slideshow": {
     "slide_type": "fragment"
    },
    "vscode": {
     "languageId": "plaintext"
    }
   },
   "outputs": [
    {
     "name": "stdout",
     "output_type": "stream",
     "text": [
      "[INFO] demo reset\n",
      "total 4\n",
      "-rw-r--r-- 1 dpew dpew 16 Jun  4 09:39 data.txt\n"
     ]
    }
   ],
   "source": [
    "initdemo\n",
    "# Let's make a file\n",
    "echo \"This is my data\" > data.txt\n",
    "ls -l"
   ]
  },
  {
   "cell_type": "code",
   "execution_count": 43,
   "id": "6ddace3a",
   "metadata": {
    "slideshow": {
     "slide_type": "fragment"
    },
    "vscode": {
     "languageId": "plaintext"
    }
   },
   "outputs": [
    {
     "name": "stdout",
     "output_type": "stream",
     "text": [
      "This is my data\n"
     ]
    }
   ],
   "source": [
    "# cat displays the contents of a file\n",
    "cat data.txt"
   ]
  },
  {
   "cell_type": "markdown",
   "id": "16855ed6",
   "metadata": {
    "slideshow": {
     "slide_type": "subslide"
    }
   },
   "source": [
    "# Directory"
   ]
  },
  {
   "cell_type": "code",
   "execution_count": 44,
   "id": "0b9707a6",
   "metadata": {
    "slideshow": {
     "slide_type": "fragment"
    },
    "vscode": {
     "languageId": "plaintext"
    }
   },
   "outputs": [
    {
     "name": "stdout",
     "output_type": "stream",
     "text": [
      "[INFO] demo reset\n"
     ]
    }
   ],
   "source": [
    "initdemo\n",
    "# make a directory\n",
    "mkdir mydir"
   ]
  },
  {
   "cell_type": "code",
   "execution_count": 45,
   "id": "9c45dc06",
   "metadata": {
    "slideshow": {
     "slide_type": "fragment"
    },
    "vscode": {
     "languageId": "plaintext"
    }
   },
   "outputs": [
    {
     "name": "stdout",
     "output_type": "stream",
     "text": [
      "/home/dpew/src/presentations/presentation-bash/playground\n",
      "/home/dpew/src/presentations/presentation-bash/playground/mydir\n"
     ]
    }
   ],
   "source": [
    "# enter the mydir directory\n",
    "pwd\n",
    "cd mydir\n",
    "pwd"
   ]
  },
  {
   "cell_type": "code",
   "execution_count": 46,
   "id": "3d0c7af6",
   "metadata": {
    "slideshow": {
     "slide_type": "fragment"
    },
    "vscode": {
     "languageId": "plaintext"
    }
   },
   "outputs": [
    {
     "name": "stdout",
     "output_type": "stream",
     "text": [
      "/home/dpew/src/presentations/presentation-bash/playground\n"
     ]
    }
   ],
   "source": [
    "# Return to the parent directory\n",
    "cd ..\n",
    "pwd"
   ]
  },
  {
   "cell_type": "code",
   "execution_count": 47,
   "id": "c4e3b465",
   "metadata": {
    "slideshow": {
     "slide_type": "subslide"
    },
    "vscode": {
     "languageId": "plaintext"
    }
   },
   "outputs": [
    {
     "name": "stdout",
     "output_type": "stream",
     "text": [
      "/var/tmp ~/src/presentations/presentation-bash/playground\n",
      "/var/tmp\n"
     ]
    }
   ],
   "source": [
    "# Another way of navigating files\n",
    "pushd /var/tmp\n",
    "pwd"
   ]
  },
  {
   "cell_type": "code",
   "execution_count": 48,
   "id": "af971d2c",
   "metadata": {
    "slideshow": {
     "slide_type": "fragment"
    },
    "vscode": {
     "languageId": "plaintext"
    }
   },
   "outputs": [
    {
     "name": "stdout",
     "output_type": "stream",
     "text": [
      "~/src/presentations/presentation-bash/playground\n",
      "/home/dpew/src/presentations/presentation-bash/playground\n"
     ]
    }
   ],
   "source": [
    "# return to previous directory\n",
    "popd\n",
    "pwd"
   ]
  },
  {
   "cell_type": "markdown",
   "id": "287d2f6a",
   "metadata": {
    "slideshow": {
     "slide_type": "subslide"
    },
    "vscode": {
     "languageId": "plaintext"
    }
   },
   "source": [
    "# Inodes (Links)"
   ]
  },
  {
   "cell_type": "code",
   "execution_count": 52,
   "id": "3429f16e",
   "metadata": {
    "slideshow": {
     "slide_type": "fragment"
    },
    "vscode": {
     "languageId": "plaintext"
    }
   },
   "outputs": [
    {
     "name": "stdout",
     "output_type": "stream",
     "text": [
      "[INFO] demo reset\n",
      "total 12\n",
      "163281 drwxr-xr-x 2 dpew dpew 4096 Jun  4 09:42 .\n",
      "196952 drwxr-xr-x 9 dpew dpew 4096 Jun  4 09:42 ..\n",
      "200376 -rw-r--r-- 1 dpew dpew   10 Jun  4 09:42 data.txt\n"
     ]
    }
   ],
   "source": [
    "initdemo\n",
    "echo \"some data\" > data.txt\n",
    "# a directory contains links to inodes\n",
    "ls -lai"
   ]
  },
  {
   "cell_type": "markdown",
   "id": "5b745068",
   "metadata": {
    "slideshow": {
     "slide_type": "notes"
    },
    "vscode": {
     "languageId": "plaintext"
    }
   },
   "source": [
    "Stop here and explain the contents of the directory"
   ]
  },
  {
   "cell_type": "code",
   "execution_count": 54,
   "id": "e54c9be7",
   "metadata": {
    "slideshow": {
     "slide_type": "fragment"
    },
    "vscode": {
     "languageId": "plaintext"
    }
   },
   "outputs": [
    {
     "name": "stdout",
     "output_type": "stream",
     "text": [
      "ln: failed to create hard link 'linked.txt': File exists\n",
      "total 16\n",
      "163281 drwxr-xr-x 2 dpew dpew 4096 Jun  4 09:42 .\n",
      "196952 drwxr-xr-x 9 dpew dpew 4096 Jun  4 09:42 ..\n",
      "200376 -rw-r--r-- 2 dpew dpew   10 Jun  4 09:42 data.txt\n",
      "200376 -rw-r--r-- 2 dpew dpew   10 Jun  4 09:42 linked.txt\n"
     ]
    }
   ],
   "source": [
    "# create link to a file\n",
    "ln data.txt linked.txt\n",
    "\n",
    "# data.txt now shows an additional link\n",
    "ls -lai"
   ]
  },
  {
   "cell_type": "code",
   "execution_count": 55,
   "id": "4effd586",
   "metadata": {
    "slideshow": {
     "slide_type": "subslide"
    },
    "vscode": {
     "languageId": "plaintext"
    }
   },
   "outputs": [
    {
     "name": "stdout",
     "output_type": "stream",
     "text": [
      "some data\n",
      "some data\n",
      "A new line\n"
     ]
    }
   ],
   "source": [
    "# A link points to the same inode (file)\n",
    "cat linked.txt\n",
    "# Make an edit to file via link\n",
    "echo \"A new line\" >> linked.txt\n",
    "# Same data\n",
    "cat data.txt"
   ]
  },
  {
   "cell_type": "code",
   "execution_count": 56,
   "id": "f29c8b78",
   "metadata": {
    "slideshow": {
     "slide_type": "fragment"
    },
    "vscode": {
     "languageId": "plaintext"
    }
   },
   "outputs": [
    {
     "name": "stdout",
     "output_type": "stream",
     "text": [
      "total 12\n",
      "163281 drwxr-xr-x 2 dpew dpew 4096 Jun  4 12:50 .\n",
      "196952 drwxr-xr-x 9 dpew dpew 4096 Jun  4 09:43 ..\n",
      "200376 -rw-r--r-- 1 dpew dpew   21 Jun  4 12:50 linked.txt\n",
      "some data\n",
      "A new line\n"
     ]
    }
   ],
   "source": [
    "# So long as links remain, inode remains\n",
    "rm data.txt\n",
    "ls -lai\n",
    "# Data still exists\n",
    "cat linked.txt"
   ]
  },
  {
   "cell_type": "code",
   "execution_count": 11,
   "id": "233bbac7",
   "metadata": {
    "slideshow": {
     "slide_type": "notes"
    },
    "vscode": {
     "languageId": "plaintext"
    }
   },
   "outputs": [
    {
     "name": "stdout",
     "output_type": "stream",
     "text": [
      "[INFO] demo reset\n"
     ]
    }
   ],
   "source": [
    "# clean up files\n",
    "initdemo"
   ]
  },
  {
   "cell_type": "markdown",
   "id": "5f29e840",
   "metadata": {
    "slideshow": {
     "slide_type": "subslide"
    },
    "vscode": {
     "languageId": "plaintext"
    }
   },
   "source": [
    "# Symbolic Links"
   ]
  },
  {
   "cell_type": "code",
   "execution_count": 62,
   "id": "6a1a07ca",
   "metadata": {
    "slideshow": {
     "slide_type": "fragment"
    },
    "vscode": {
     "languageId": "plaintext"
    }
   },
   "outputs": [
    {
     "name": "stdout",
     "output_type": "stream",
     "text": [
      "[INFO] demo reset\n",
      "total 4\n",
      "-rw-r--r-- 1 dpew dpew 17 Jun  4 12:53 newdata.txt\n",
      "lrwxrwxrwx 1 dpew dpew 11 Jun  4 12:53 symbolic.txt -> newdata.txt\n"
     ]
    }
   ],
   "source": [
    "initdemo\n",
    "# symbolic link is a pointer\n",
    "echo \"This is new data\" > newdata.txt\n",
    "ln -s newdata.txt symbolic.txt\n",
    "ls -l"
   ]
  },
  {
   "cell_type": "code",
   "execution_count": 58,
   "id": "787606e6",
   "metadata": {
    "slideshow": {
     "slide_type": "fragment"
    },
    "vscode": {
     "languageId": "plaintext"
    }
   },
   "outputs": [
    {
     "name": "stdout",
     "output_type": "stream",
     "text": [
      "This is new data\n"
     ]
    }
   ],
   "source": [
    "cat symbolic.txt"
   ]
  },
  {
   "cell_type": "code",
   "execution_count": 63,
   "id": "64103db8",
   "metadata": {
    "slideshow": {
     "slide_type": "fragment"
    },
    "vscode": {
     "languageId": "plaintext"
    }
   },
   "outputs": [
    {
     "name": "stdout",
     "output_type": "stream",
     "text": [
      "total 8\n",
      "drwxr-xr-x 2 dpew dpew 4096 Jun  4 12:53 .\n",
      "drwxr-xr-x 9 dpew dpew 4096 Jun  4 12:53 ..\n",
      "lrwxrwxrwx 1 dpew dpew   11 Jun  4 12:53 symbolic.txt -> newdata.txt\n",
      "cat: symbolic.txt: No such file or directory\n"
     ]
    },
    {
     "ename": "",
     "evalue": "1",
     "output_type": "error",
     "traceback": []
    }
   ],
   "source": [
    "# When removing the original, the symlink no longer works\n",
    "rm newdata.txt\n",
    "ls -la\n",
    "cat symbolic.txt # an error"
   ]
  },
  {
   "cell_type": "markdown",
   "id": "6a963d12",
   "metadata": {
    "slideshow": {
     "slide_type": "subslide"
    }
   },
   "source": [
    "# Copying files"
   ]
  },
  {
   "cell_type": "code",
   "execution_count": 64,
   "id": "335b91a8",
   "metadata": {
    "slideshow": {
     "slide_type": "fragment"
    }
   },
   "outputs": [
    {
     "name": "stdout",
     "output_type": "stream",
     "text": [
      "[INFO] demo reset\n",
      "total 8\n",
      "161747 -rw-r--r-- 1 dpew dpew 14 Jun  4 12:54 file1\n",
      "163281 -rw-r--r-- 1 dpew dpew 14 Jun  4 12:54 file2\n"
     ]
    }
   ],
   "source": [
    "initdemo\n",
    "# copy a file\n",
    "echo file contents > file1\n",
    "cp file1 file2  # copies file1 to file2\n",
    "ls -li"
   ]
  },
  {
   "cell_type": "code",
   "execution_count": 40,
   "id": "6f933d09",
   "metadata": {
    "slideshow": {
     "slide_type": "fragment"
    }
   },
   "outputs": [
    {
     "name": "stdout",
     "output_type": "stream",
     "text": [
      "updated contents\n",
      "file contents\n"
     ]
    }
   ],
   "source": [
    "# default is to overwrite\n",
    "echo \"updated contents\" > file2\n",
    "cat file2\n",
    "cp file1 file2\n",
    "cat file2"
   ]
  },
  {
   "cell_type": "markdown",
   "id": "d201ef74",
   "metadata": {},
   "source": [
    "# Moving files"
   ]
  },
  {
   "cell_type": "code",
   "execution_count": null,
   "id": "8e172499",
   "metadata": {
    "slideshow": {
     "slide_type": "subslide"
    }
   },
   "outputs": [],
   "source": [
    "initdemo\n",
    "echo \"file contents\" > file1\n",
    "ls -li"
   ]
  },
  {
   "cell_type": "code",
   "execution_count": null,
   "id": "f3f4f2b9",
   "metadata": {
    "slideshow": {
     "slide_type": "fragment"
    }
   },
   "outputs": [],
   "source": [
    "mv file1 file2\n",
    "ls -li\n"
   ]
  },
  {
   "cell_type": "code",
   "execution_count": null,
   "id": "79897448",
   "metadata": {
    "slideshow": {
     "slide_type": "fragment"
    }
   },
   "outputs": [],
   "source": [
    "# move in the same file system is same as linking, rm\n",
    "ln file2 file1\n",
    "rm file2"
   ]
  },
  {
   "cell_type": "markdown",
   "id": "02593ad4",
   "metadata": {
    "slideshow": {
     "slide_type": "subslide"
    }
   },
   "source": [
    "# Deleting files"
   ]
  },
  {
   "cell_type": "code",
   "execution_count": 27,
   "id": "c5b8a12b",
   "metadata": {
    "slideshow": {
     "slide_type": "fragment"
    }
   },
   "outputs": [
    {
     "name": "stdout",
     "output_type": "stream",
     "text": [
      "[INFO] demo reset\n",
      "contents\n",
      "\u001b[34m.\u001b[0m\n",
      "├── \u001b[34mdir1\u001b[0m\n",
      "├── \u001b[34mdir2\u001b[0m\n",
      "│   └── file2\n",
      "├── \u001b[34mdir3\u001b[0m\n",
      "│   └── \u001b[34mnested\u001b[0m\n",
      "│       └── file3\n",
      "└── file0\n",
      "\n",
      "4 directories, 3 files\n"
     ]
    }
   ],
   "source": [
    "initdemo\n",
    "# Deleting files and directories\n",
    "mkdir -p dir1 dir2 dir3/nested\n",
    "echo \"contents\" | tee file0 | tee dir2/file2 | tee dir3/nested/file3\n",
    "tree"
   ]
  },
  {
   "cell_type": "code",
   "execution_count": 28,
   "id": "fecff951",
   "metadata": {
    "slideshow": {
     "slide_type": "fragment"
    }
   },
   "outputs": [
    {
     "name": "stdout",
     "output_type": "stream",
     "text": [
      "rmdir: failed to remove 'dir2': Directory not empty\n",
      "rmdir: failed to remove 'dir3': Directory not empty\n"
     ]
    },
    {
     "ename": "",
     "evalue": "1",
     "output_type": "error",
     "traceback": []
    }
   ],
   "source": [
    "rmdir dir1 dir2 dir3 # directory must be empty before removal"
   ]
  },
  {
   "cell_type": "code",
   "execution_count": 29,
   "id": "a2d2d4e8",
   "metadata": {
    "slideshow": {
     "slide_type": "fragment"
    }
   },
   "outputs": [
    {
     "name": "stdout",
     "output_type": "stream",
     "text": [
      "rm: descend into directory 'dir2'? rm: remove regular file 'dir2/file2'? rm: remove directory 'dir2'? yes: standard output: Broken pipe\n",
      "\u001b[34m.\u001b[0m\n",
      "├── \u001b[34mdir3\u001b[0m\n",
      "│   └── \u001b[34mnested\u001b[0m\n",
      "│       └── file3\n",
      "└── file0\n",
      "\n",
      "2 directories, 2 files\n"
     ]
    }
   ],
   "source": [
    "# rm -ri is recursive prompts before deleting files\n",
    "yes | rm -ri dir2\n",
    "tree"
   ]
  },
  {
   "cell_type": "code",
   "execution_count": 30,
   "id": "3c4e1ef9",
   "metadata": {
    "scrolled": true,
    "slideshow": {
     "slide_type": "fragment"
    }
   },
   "outputs": [
    {
     "name": "stdout",
     "output_type": "stream",
     "text": [
      "\u001b[34m.\u001b[0m\n",
      "└── file0\n",
      "\n",
      "0 directories, 1 file\n"
     ]
    }
   ],
   "source": [
    "# rm -f will force removal, even if interactive is enabled\n",
    "rm -rif dir3\n",
    "tree"
   ]
  },
  {
   "cell_type": "markdown",
   "id": "08b41e77",
   "metadata": {
    "slideshow": {
     "slide_type": "fragment"
    }
   },
   "source": [
    "# Beware of `rm -rf`.  Just ask Pixar."
   ]
  },
  {
   "cell_type": "markdown",
   "id": "6800bbb8",
   "metadata": {
    "slideshow": {
     "slide_type": "slide"
    }
   },
   "source": [
    "# Processes"
   ]
  },
  {
   "cell_type": "markdown",
   "id": "46a97c00",
   "metadata": {
    "slideshow": {
     "slide_type": "notes"
    }
   },
   "source": [
    "File descriptor concepts are described after the slide showing a listing of the file descriptors, including stdin, stdout, stderr."
   ]
  },
  {
   "cell_type": "code",
   "execution_count": 22,
   "id": "818a8128",
   "metadata": {
    "slideshow": {
     "slide_type": "fragment"
    }
   },
   "outputs": [
    {
     "name": "stdout",
     "output_type": "stream",
     "text": [
      "UID        PID  PPID  C STIME TTY          TIME CMD\n",
      "root         1     0  0 12:33 ?        00:00:00 /init\n",
      "root       129     1  0 12:34 ?        00:00:00   /init\n",
      "root       130   129  0 12:34 ?        00:00:00     /init\n",
      "root       131   130  0 12:34 pts/0    00:00:00       /mnt/wsl/docker-desktop/docker-desktop-user-distro proxy --distro-name Ubuntu --docker-desktop-root /mnt/wsl/docker-desktop C:\\Program Files\\Docker\\Docker\\resources\n",
      "root       148   129  0 12:34 ?        00:00:00     /init\n",
      "dpew       149   148  0 12:34 pts/1    00:00:01       docker serve --address unix:///home/dpew/.docker/run/docker-cli-api.sock\n",
      "root       169     1  0 12:44 ?        00:00:00   /init\n",
      "dpew       171   169  2 12:44 ?        00:06:28     ./wslconnect wsl -F -p 127.0.0.1:22003\n",
      "dpew       172   171  0 12:44 pts/3    00:00:00       -bash\n",
      "dpew       483   172  0 12:44 pts/3    00:00:05         /usr/bin/python3 /usr/bin/terminator\n",
      "dpew       525   483  0 12:44 pts/4    00:00:00           /bin/bash\n",
      "dpew       954   525  0 12:45 pts/4    00:00:00             /bin/bash ./run.sh\n",
      "dpew       959   954  0 12:45 pts/4    00:00:07               /home/dpew/src/presentations/presentation-bash/venv/bin/python /home/dpew/src/presentations/presentation-bash/venv/bin/jupyter-notebook\n",
      "dpew     20527   959  0 15:18 ?        00:00:00                 /home/dpew/src/presentations/presentation-bash/venv/bin/python -m bash_kernel -f /home/dpew/.local/share/jupyter/runtime/kernel-47471265-3354-468a-9346-df7a34f5b6b1.json\n"
     ]
    }
   ],
   "source": [
    "# All processes\n",
    "ps -efH | head -15"
   ]
  },
  {
   "cell_type": "markdown",
   "id": "ed92cab3",
   "metadata": {
    "slideshow": {
     "slide_type": "subslide"
    }
   },
   "source": [
    "# Fork-Exec\n",
    " - A process forks itself, making a child process\n",
    " - The child process optionally replaces itself with exec\n",
    " - The child process inherits\n",
    "     - file descriptors\n",
    "     - environment variables\n",
    "     - signal handlers\n",
    "     - current working directory\n",
    "     - umask\n",
    "     - resource limits (max file size, cpu limits, max open files, etc.)\n",
    "     - controlling terminal\n",
    "     - uid and gid\n",
    "     - memory space (memory is not shared)"
   ]
  },
  {
   "cell_type": "code",
   "execution_count": 23,
   "id": "53bfc782",
   "metadata": {
    "slideshow": {
     "slide_type": "subslide"
    }
   },
   "outputs": [
    {
     "name": "stdout",
     "output_type": "stream",
     "text": [
      "arch_status\t environ    mountinfo\t   projid_map\t status\n",
      "attr\t\t exe\t    mounts\t   root\t\t syscall\n",
      "auxv\t\t fd\t    mountstats\t   sched\t task\n",
      "cgroup\t\t fdinfo     net\t\t   schedstat\t timers\n",
      "clear_refs\t gid_map    ns\t\t   setgroups\t timerslack_ns\n",
      "cmdline\t\t io\t    oom_adj\t   smaps\t uid_map\n",
      "comm\t\t limits     oom_score\t   smaps_rollup  wchan\n",
      "coredump_filter  map_files  oom_score_adj  stack\n",
      "cpuset\t\t maps\t    pagemap\t   stat\n",
      "cwd\t\t mem\t    personality    statm\n"
     ]
    }
   ],
   "source": [
    "# /proc is a special linux filesystem showing process info\n",
    "ls /proc/$$"
   ]
  },
  {
   "cell_type": "code",
   "execution_count": 25,
   "id": "7ce74135",
   "metadata": {
    "slideshow": {
     "slide_type": "subslide"
    }
   },
   "outputs": [
    {
     "name": "stdout",
     "output_type": "stream",
     "text": [
      "WSLENV=BASH_ENV/u\n",
      "XDG_DATA_DIRS=/usr/local/share:/usr/share:/var/lib/snapd/desktop\n",
      "PATH=/home/linuxbrew/.linuxbrew/bin:/home/linuxbrew/.linuxbrew/sbin:/home/dpew/.nvm/versions/node/v16.17.1/bin:/usr/local/sbin:/usr/local/bin:/usr/sbin:/usr/bin:/sbin:/bin:/usr/games:/usr/local/games:/usr/lib/wsl/lib:/mnt/c/Users/DougPew/AppData/Roaming/MobaXterm/slash/bin:/mnt/c/WINDOWS/:/mnt/c/WINDOWS/system32/:/mnt/c/Windows/system32:/mnt/c/Windows:/mnt/c/Windows/System32/Wbem:/mnt/c/Windows/System32/WindowsPowerShell/v1.0/:/mnt/c/Program Files (x86)/NVIDIA Corporation/PhysX/Common:/mnt/c/Program Files/NVIDIA Corporation/NVIDIA NvDLISR:/mnt/c/Program Files/Microsoft VS Code/bin:/mnt/c/Program Files/dotnet/:/mnt/c/ProgramData/chocolatey/bin:/mnt/c/WINDOWS/system32:/mnt/c/WINDOWS:/mnt/c/WINDOWS/System32/Wbem:/mnt/c/WINDOWS/System32/WindowsPowerShell/v1.0/:/Docker/host/bin:/mnt/c/Program Files (x86)/HP/HP OCR/DB_Lib/:/mnt/c/Program Files/HP/Common/HPDestPlgIn/:/mnt/c/Program Files (x86)/HP/Common/HPDestPlgIn/:/mnt/c/Users/DougPew/AppData/Local/Microsoft/WindowsApps:/mnt/c/Program Files/HP/Common/HPDestPlgIn/:/mnt/c/Program Files (x86)/HP/Common/HPDestPlgIn/:/mnt/c/WINDOWS/sysnative/:/snap/bin:/home/dpew/bin:/opt/apache-maven-3.5.3/bin:/home/dpew/opt/k8s-install\n",
      "NVM_BIN=/home/dpew/.nvm/versions/node/v16.17.1/bin\n",
      "SSH_TTY=/dev/pts/3\n",
      "HOSTTYPE=x86_64\n",
      "PULSE_SERVER=/mnt/wslg/PulseServer\n",
      "OLDPWD=/home/dpew/src/presentations/presentation-bash\n",
      "SCM_CHECK=true\n",
      "_=/usr/bin/env\n"
     ]
    }
   ],
   "source": [
    "# some env vars\n",
    "env | tail -10"
   ]
  },
  {
   "cell_type": "code",
   "execution_count": 24,
   "id": "50461ce8",
   "metadata": {
    "slideshow": {
     "slide_type": "fragment"
    }
   },
   "outputs": [
    {
     "name": "stdout",
     "output_type": "stream",
     "text": [
      "WSLENV=BASH_ENV/u\n",
      "XDG_DATA_DIRS=/usr/local/share:/usr/share:/var/lib/snapd/desktop\n",
      "PATH=/home/linuxbrew/.linuxbrew/bin:/home/linuxbrew/.linuxbrew/sbin:/home/dpew/.nvm/versions/node/v16.17.1/bin:/usr/local/sbin:/usr/local/bin:/usr/sbin:/usr/bin:/sbin:/bin:/usr/games:/usr/local/games:/usr/lib/wsl/lib:/mnt/c/Users/DougPew/AppData/Roaming/MobaXterm/slash/bin:/mnt/c/WINDOWS/:/mnt/c/WINDOWS/system32/:/mnt/c/Windows/system32:/mnt/c/Windows:/mnt/c/Windows/System32/Wbem:/mnt/c/Windows/System32/WindowsPowerShell/v1.0/:/mnt/c/Program Files (x86)/NVIDIA Corporation/PhysX/Common:/mnt/c/Program Files/NVIDIA Corporation/NVIDIA NvDLISR:/mnt/c/Program Files/Microsoft VS Code/bin:/mnt/c/Program Files/dotnet/:/mnt/c/ProgramData/chocolatey/bin:/mnt/c/WINDOWS/system32:/mnt/c/WINDOWS:/mnt/c/WINDOWS/System32/Wbem:/mnt/c/WINDOWS/System32/WindowsPowerShell/v1.0/:/Docker/host/bin:/mnt/c/Program Files (x86)/HP/HP OCR/DB_Lib/:/mnt/c/Program Files/HP/Common/HPDestPlgIn/:/mnt/c/Program Files (x86)/HP/Common/HPDestPlgIn/:/mnt/c/Users/DougPew/AppData/Local/Microsoft/WindowsApps:/mnt/c/Program Files/HP/Common/HPDestPlgIn/:/mnt/c/Program Files (x86)/HP/Common/HPDestPlgIn/:/mnt/c/WINDOWS/sysnative/:/snap/bin:/home/dpew/bin:/opt/apache-maven-3.5.3/bin:/home/dpew/opt/k8s-install\n",
      "NVM_BIN=/home/dpew/.nvm/versions/node/v16.17.1/bin\n",
      "SSH_TTY=/dev/pts/3\n",
      "HOSTTYPE=x86_64\n",
      "PULSE_SERVER=/mnt/wslg/PulseServer\n",
      "OLDPWD=/home/dpew/src/presentations/presentation-bash\n",
      "SCM_CHECK=true\n",
      "_=/usr/bin/env\n",
      "PATH=/home/linuxbrew/.linuxbrew/bin:/home/linuxbrew/.linuxbrew/sbin:/home/dpew/.nvm/versions/node/v16.17.1/bin:/usr/local/sbin:/usr/local/bin:/usr/sbin:/usr/bin:/sbin:/bin:/usr/games:/usr/local/games:/usr/lib/wsl/lib:/mnt/c/Users/DougPew/AppData/Roaming/MobaXterm/slash/bin:/mnt/c/WINDOWS/:/mnt/c/WINDOWS/system32/:/mnt/c/Windows/system32:/mnt/c/Windows:/mnt/c/Windows/System32/Wbem:/mnt/c/Windows/System32/WindowsPowerShell/v1.0/:/mnt/c/Program Files (x86)/NVIDIA Corporation/PhysX/Common:/mnt/c/Program Files/NVIDIA Corporation/NVIDIA NvDLISR:/mnt/c/Program Files/Microsoft VS Code/bin:/mnt/c/Program Files/dotnet/:/mnt/c/ProgramData/chocolatey/bin:/mnt/c/WINDOWS/system32:/mnt/c/WINDOWS:/mnt/c/WINDOWS/System32/Wbem:/mnt/c/WINDOWS/System32/WindowsPowerShell/v1.0/:/Docker/host/bin:/mnt/c/Program Files (x86)/HP/HP OCR/DB_Lib/:/mnt/c/Program Files/HP/Common/HPDestPlgIn/:/mnt/c/Program Files (x86)/HP/Common/HPDestPlgIn/:/mnt/c/Users/DougPew/AppData/Local/Microsoft/WindowsApps:/mnt/c/Program Files/HP/Common/HPDestPlgIn/:/mnt/c/Program Files (x86)/HP/Common/HPDestPlgIn/:/mnt/c/WINDOWS/sysnative/:/snap/bin:/home/dpew/bin:/opt/apache-maven-3.5.3/bin:/home/dpew/opt/k8s-install\n",
      "NVM_BIN=/home/dpew/.nvm/versions/node/v16.17.1/bin\n",
      "SSH_TTY=/dev/pts/3\n",
      "HOSTTYPE=x86_64\n",
      "PULSE_SERVER=/mnt/wslg/PulseServer\n",
      "OLDPWD=/home/dpew\n",
      "SCM_CHECK=true\n",
      "_=/home/dpew/src/presentations/presentation-bash/venv/bin/jupyter\n",
      "PS1=$\n",
      "JPY_PARENT_PID=959\n"
     ]
    }
   ],
   "source": [
    "# via proc\n",
    "cat /proc/$$/environ | tr '\\0' '\\n' | tail -10 # via proc"
   ]
  },
  {
   "cell_type": "code",
   "execution_count": 30,
   "id": "96a3e292",
   "metadata": {
    "scrolled": true,
    "slideshow": {
     "slide_type": "subslide"
    }
   },
   "outputs": [
    {
     "name": "stdout",
     "output_type": "stream",
     "text": [
      "core file size          (blocks, -c) 0\n",
      "data seg size           (kbytes, -d) unlimited\n",
      "scheduling priority             (-e) 0\n",
      "file size               (blocks, -f) unlimited\n",
      "pending signals                 (-i) 63417\n",
      "max locked memory       (kbytes, -l) 64\n",
      "max memory size         (kbytes, -m) unlimited\n",
      "open files                      (-n) 4096\n",
      "pipe size            (512 bytes, -p) 8\n",
      "POSIX message queues     (bytes, -q) 819200\n",
      "real-time priority              (-r) 0\n",
      "stack size              (kbytes, -s) 8192\n",
      "cpu time               (seconds, -t) unlimited\n",
      "max user processes              (-u) 63417\n",
      "virtual memory          (kbytes, -v) unlimited\n",
      "file locks                      (-x) unlimited\n"
     ]
    }
   ],
   "source": [
    "# Resource limits\n",
    "ulimit -a # limits"
   ]
  },
  {
   "cell_type": "code",
   "execution_count": 31,
   "id": "c4a54de9",
   "metadata": {
    "scrolled": true,
    "slideshow": {
     "slide_type": "fragment"
    }
   },
   "outputs": [
    {
     "name": "stdout",
     "output_type": "stream",
     "text": [
      "Limit                     Soft Limit           Hard Limit           Units     \n",
      "Max cpu time              unlimited            unlimited            seconds   \n",
      "Max file size             unlimited            unlimited            bytes     \n",
      "Max data size             unlimited            unlimited            bytes     \n",
      "Max stack size            8388608              unlimited            bytes     \n",
      "Max core file size        0                    0                    bytes     \n",
      "Max resident set          unlimited            unlimited            bytes     \n",
      "Max processes             63417                63417                processes \n",
      "Max open files            4096                 1048576              files     \n",
      "Max locked memory         65536                65536                bytes     \n",
      "Max address space         unlimited            unlimited            bytes     \n",
      "Max file locks            unlimited            unlimited            locks     \n",
      "Max pending signals       63417                63417                signals   \n",
      "Max msgqueue size         819200               819200               bytes     \n",
      "Max nice priority         0                    0                    \n",
      "Max realtime priority     0                    0                    \n",
      "Max realtime timeout      unlimited            unlimited            us        \n"
     ]
    }
   ],
   "source": [
    "cat /proc/$$/limits # via proc"
   ]
  },
  {
   "cell_type": "code",
   "execution_count": 33,
   "id": "fc8f5cc6",
   "metadata": {
    "slideshow": {
     "slide_type": "subslide"
    }
   },
   "outputs": [
    {
     "name": "stdout",
     "output_type": "stream",
     "text": [
      "/home/dpew/src/presentations/presentation-bash/playground\n"
     ]
    }
   ],
   "source": [
    "# cwd\n",
    "pwd"
   ]
  },
  {
   "cell_type": "code",
   "execution_count": 28,
   "id": "99f513a8",
   "metadata": {
    "slideshow": {
     "slide_type": "fragment"
    }
   },
   "outputs": [
    {
     "name": "stdout",
     "output_type": "stream",
     "text": [
      "/home/dpew/src/presentations/presentation-bash/playground\n",
      "lrwxrwxrwx 1 dpew dpew 0 Jun  2 15:18 /proc/20541/cwd -> /home/dpew/src/presentations/presentation-bash/playground\n"
     ]
    }
   ],
   "source": [
    "# via proc\n",
    "ls -l /proc/$$/cwd"
   ]
  },
  {
   "cell_type": "code",
   "execution_count": 29,
   "id": "cb391052",
   "metadata": {
    "slideshow": {
     "slide_type": "fragment"
    }
   },
   "outputs": [
    {
     "name": "stdout",
     "output_type": "stream",
     "text": [
      "0022\n"
     ]
    }
   ],
   "source": [
    "# Current umask (no proc equiv)\n",
    "umask"
   ]
  },
  {
   "cell_type": "code",
   "execution_count": 32,
   "id": "a0126c10",
   "metadata": {
    "slideshow": {
     "slide_type": "fragment"
    }
   },
   "outputs": [
    {
     "name": "stdout",
     "output_type": "stream",
     "text": [
      "total 0\n",
      "lrwx------ 1 dpew dpew 64 Jun  2 15:18 0 -> /dev/pts/5\n",
      "lrwx------ 1 dpew dpew 64 Jun  2 15:18 1 -> /dev/pts/5\n",
      "lrwx------ 1 dpew dpew 64 Jun  2 15:18 2 -> /dev/pts/5\n",
      "lrwx------ 1 dpew dpew 64 Jun  2 15:18 255 -> /dev/pts/5\n"
     ]
    }
   ],
   "source": [
    "# Open file descriptors\n",
    "ls -l /proc/$$/fd"
   ]
  },
  {
   "cell_type": "markdown",
   "id": "9741b758",
   "metadata": {
    "slideshow": {
     "slide_type": "slide"
    }
   },
   "source": [
    "# STDIN, STDOUT and STDERR\n",
    "\n",
    "\n",
    "Each unix process has an table of open files.  The index in this table represents the file descriptor number:\n",
    "![File Descriptors](img/file-descriptors.png)"
   ]
  },
  {
   "cell_type": "markdown",
   "id": "c06785e1-4c0d-485e-a94d-f5c8ea1a82fc",
   "metadata": {
    "slideshow": {
     "slide_type": "slide"
    }
   },
   "source": [
    "# The Shell\n",
    "* Interact with an OS  \n",
    "* \"A shell, or command line interpreter, is a program that interprets lines of text entered by a user, a file or a data stream\"  \n",
    "* Used for interactive sessions and scripting"
   ]
  },
  {
   "cell_type": "markdown",
   "id": "22e7f9dd-b65d-40ef-a90c-c715d330850f",
   "metadata": {
    "slideshow": {
     "slide_type": "slide"
    }
   },
   "source": [
    "# Common Unix Shells\n",
    "* `/bin/sh`\n",
    "  The POSIX Shell - compatible across all POSIX Systems.  Was the original Sys-V shell\n",
    "* `/bin/bash`\n",
    "  GNU Bourne Again Shell. Extends /bin/sh. Often the default shell on most Linux distros.\n",
    "* `/bin/zsh`\n",
    "  Z-Shell. Quite a few similarities to bash. The default shell in MacOS. available on Linux distros.\n",
    "* `/bin/tcsh`\n",
    "  The GNU \"C Shell\". Used by X-Midas/Studies community."
   ]
  },
  {
   "cell_type": "markdown",
   "id": "ef5fe8c5",
   "metadata": {
    "slideshow": {
     "slide_type": "slide"
    }
   },
   "source": [
    "# IO Redirection\n",
    "\n",
    "- A shell capability\n",
    "- included in sh, bash, csh, etc.\n"
   ]
  },
  {
   "cell_type": "code",
   "execution_count": 38,
   "id": "cfadb549",
   "metadata": {
    "slideshow": {
     "slide_type": "subslide"
    }
   },
   "outputs": [
    {
     "name": "stdout",
     "output_type": "stream",
     "text": [
      "[3]-  Done                    ( sleep 30 && tr '[:lower:]' '[:upper:]' ) < file > outfile  (wd: ~/src/presentations/presentation-bash/playground)\n",
      "(wd now: ~/src/presentations/presentation-bash)\n",
      "[INFO] demo reset\n"
     ]
    }
   ],
   "source": [
    "initdemo # Reset demo"
   ]
  },
  {
   "cell_type": "code",
   "execution_count": 39,
   "id": "6f192902",
   "metadata": {
    "slideshow": {
     "slide_type": "fragment"
    }
   },
   "outputs": [
    {
     "name": "stdout",
     "output_type": "stream",
     "text": [
      "cat: file: No such file or directory\n"
     ]
    },
    {
     "ename": "",
     "evalue": "1",
     "output_type": "error",
     "traceback": []
    }
   ],
   "source": [
    "cat file #file does not exists`"
   ]
  },
  {
   "cell_type": "code",
   "execution_count": 40,
   "id": "5b97b86f",
   "metadata": {
    "slideshow": {
     "slide_type": "fragment"
    }
   },
   "outputs": [],
   "source": [
    "# Redirect stdin to a file\n",
    "echo \"Contents of file\" > file"
   ]
  },
  {
   "cell_type": "code",
   "execution_count": 41,
   "id": "95a394c5",
   "metadata": {
    "slideshow": {
     "slide_type": "fragment"
    }
   },
   "outputs": [
    {
     "name": "stdout",
     "output_type": "stream",
     "text": [
      "Contents of file\n"
     ]
    }
   ],
   "source": [
    "cat file # Now the file exists"
   ]
  },
  {
   "cell_type": "code",
   "execution_count": 42,
   "id": "f03582a7",
   "metadata": {
    "slideshow": {
     "slide_type": "fragment"
    }
   },
   "outputs": [],
   "source": [
    "echo \"Appended line\" >> file # Append stdin to file"
   ]
  },
  {
   "cell_type": "code",
   "execution_count": 43,
   "id": "cba2b8ca",
   "metadata": {
    "slideshow": {
     "slide_type": "fragment"
    }
   },
   "outputs": [
    {
     "name": "stdout",
     "output_type": "stream",
     "text": [
      "Contents of file\n",
      "Appended line\n"
     ]
    }
   ],
   "source": [
    "cat file"
   ]
  },
  {
   "cell_type": "code",
   "execution_count": null,
   "id": "4b54673d",
   "metadata": {
    "slideshow": {
     "slide_type": "subslide"
    }
   },
   "outputs": [],
   "source": [
    "tr '[:lower:]' '[:upper:]' < file # Redirect file to stdin"
   ]
  },
  {
   "cell_type": "code",
   "execution_count": null,
   "id": "2f498952",
   "metadata": {
    "slideshow": {
     "slide_type": "fragment"
    }
   },
   "outputs": [],
   "source": [
    "# Lets see the stdin and stdout\n",
    "(sleep 30 && tr '[:lower:]' '[:upper:]') < file > outfile &\n",
    "pid=$!\n",
    "ls -l /proc/$pid/fd"
   ]
  },
  {
   "cell_type": "code",
   "execution_count": 52,
   "id": "0c36dc55",
   "metadata": {
    "slideshow": {
     "slide_type": "fragment"
    }
   },
   "outputs": [
    {
     "name": "stdout",
     "output_type": "stream",
     "text": [
      "ERROR: hello world"
     ]
    }
   ],
   "source": [
    "# Wait! Stderr was not captured\n",
    "\n",
    "# Send argcount to to stdout, args to stderr\n",
    "function generror() {\n",
    "   printf \"generror: got %d arguments\\n\" \"$#\"\n",
    "   printf \"ERROR: %s\" \"$*\" 1>&2\n",
    "}\n",
    "\n",
    "generror hello world > output"
   ]
  },
  {
   "cell_type": "code",
   "execution_count": 53,
   "id": "689560c0",
   "metadata": {
    "slideshow": {
     "slide_type": "fragment"
    }
   },
   "outputs": [
    {
     "name": "stdout",
     "output_type": "stream",
     "text": [
      "generror: got 2 arguments\n"
     ]
    }
   ],
   "source": [
    "cat output"
   ]
  },
  {
   "cell_type": "code",
   "execution_count": 54,
   "id": "54269fa5",
   "metadata": {
    "slideshow": {
     "slide_type": "subslide"
    }
   },
   "outputs": [],
   "source": [
    "# Now send both to output file\n",
    "generror send error to stderr > output 2>&1"
   ]
  },
  {
   "cell_type": "code",
   "execution_count": 55,
   "id": "b9679dad",
   "metadata": {
    "slideshow": {
     "slide_type": "fragment"
    }
   },
   "outputs": [
    {
     "name": "stdout",
     "output_type": "stream",
     "text": [
      "generror: got 4 arguments\n",
      "ERROR: send error to stderr"
     ]
    }
   ],
   "source": [
    "cat output"
   ]
  },
  {
   "cell_type": "code",
   "execution_count": null,
   "id": "63ef85a8",
   "metadata": {
    "slideshow": {
     "slide_type": "fragment"
    }
   },
   "outputs": [],
   "source": [
    "# Only redirect stderr\n",
    "generror only to stderr 2>output"
   ]
  },
  {
   "cell_type": "code",
   "execution_count": null,
   "id": "ccdec330",
   "metadata": {
    "slideshow": {
     "slide_type": "fragment"
    }
   },
   "outputs": [],
   "source": [
    "cat output"
   ]
  },
  {
   "cell_type": "code",
   "execution_count": null,
   "id": "d3fbf79a",
   "metadata": {
    "slideshow": {
     "slide_type": "fragment"
    }
   },
   "outputs": [],
   "source": [
    "# Redictection order matters\n",
    "generror send error to stderr 2>&1 > output"
   ]
  },
  {
   "cell_type": "code",
   "execution_count": 59,
   "id": "db27c190-fceb-46c5-8499-dcf8f48e9fa3",
   "metadata": {
    "slideshow": {
     "slide_type": "fragment"
    }
   },
   "outputs": [
    {
     "name": "stdout",
     "output_type": "stream",
     "text": [
      "generror: got 4 arguments\n"
     ]
    }
   ],
   "source": [
    "cat output"
   ]
  },
  {
   "cell_type": "code",
   "execution_count": 68,
   "id": "a754f09f",
   "metadata": {
    "slideshow": {
     "slide_type": "subslide"
    }
   },
   "outputs": [
    {
     "name": "stdout",
     "output_type": "stream",
     "text": [
      "This is a multi line document\n",
      "read from bash.  It keeps reading until the\n",
      "HEREDOC string is the only sequence on\n",
      "the line. Oh cool, variables are expanded too!\n",
      "(Supported in csh as well)\n"
     ]
    }
   ],
   "source": [
    "# heredoc -- read stdin until char sequence in read at beginning of line\n",
    "export EXCLAIM=cool\n",
    "cat <<HEREDOC\n",
    "This is a multi line document\n",
    "read from bash.  It keeps reading until the\n",
    "HEREDOC string is the only sequence on\n",
    "the line. Oh ${EXCLAIM}, variables are expanded too!\n",
    "(Supported in csh as well)\n",
    "HEREDOC"
   ]
  },
  {
   "cell_type": "code",
   "execution_count": 67,
   "id": "f75dd619",
   "metadata": {
    "slideshow": {
     "slide_type": "subslide"
    }
   },
   "outputs": [
    {
     "name": "stdout",
     "output_type": "stream",
     "text": [
      "Sensitive password\n"
     ]
    }
   ],
   "source": [
    "# bash and zsh also supports herestrings\n",
    "cat <<< \"Sensitive password\""
   ]
  },
  {
   "cell_type": "markdown",
   "id": "27c393eb",
   "metadata": {
    "slideshow": {
     "slide_type": "subslide"
    }
   },
   "source": [
    "# Exit codes\n",
    "- Every unix process has an 8 bit exit code (0-255)\n",
    "- 0 - success\n",
    "- non 0 means failure\n",
    "- 128+ means process terminated by a signal (128 + 9 (SIGKILL) = 137"
   ]
  },
  {
   "cell_type": "code",
   "execution_count": 70,
   "id": "18efae2b",
   "metadata": {
    "slideshow": {
     "slide_type": "fragment"
    }
   },
   "outputs": [
    {
     "name": "stdout",
     "output_type": "stream",
     "text": [
      "exit was 0\n",
      "exit was 1\n",
      "Terminated\n",
      "exit was 143\n"
     ]
    }
   ],
   "source": [
    "true # generate good exit code\n",
    "echo exit was $?\n",
    "false # generate bad exit code\n",
    "echo exit was $?\n",
    "bash -c 'kill -15 $$' # generate signal exit code\n",
    "echo exit was $?"
   ]
  },
  {
   "cell_type": "markdown",
   "id": "490a8df8",
   "metadata": {
    "slideshow": {
     "slide_type": "subslide"
    }
   },
   "source": [
    "# Pipes\n",
    "\n",
    "- Pipes is a buffered stream sends data from one process to another\n",
    "- The stdout of process A is directed to the stdin of process B\n",
    "- When pipe is empty, process B blocks.  When pipe buffer is full, process A blocks\n",
    "- The exit code of the piped processes are the last process (can be changed)"
   ]
  },
  {
   "cell_type": "code",
   "execution_count": 71,
   "id": "d91c8e9f",
   "metadata": {
    "scrolled": true,
    "slideshow": {
     "slide_type": "fragment"
    }
   },
   "outputs": [
    {
     "name": "stdout",
     "output_type": "stream",
     "text": [
      "The rain\n",
      "in Spain\n",
      "falls mainly\n",
      "in the plain\n"
     ]
    }
   ],
   "source": [
    "cat <<EOF | grep ain\n",
    "The rain\n",
    "in Spain\n",
    "falls mainly\n",
    "in the plain\n",
    "EOF"
   ]
  },
  {
   "cell_type": "code",
   "execution_count": 75,
   "id": "cf14c48d",
   "metadata": {
    "slideshow": {
     "slide_type": "fragment"
    }
   },
   "outputs": [
    {
     "name": "stdout",
     "output_type": "stream",
     "text": [
      "0\n",
      "1\n",
      "1\n"
     ]
    }
   ],
   "source": [
    "false | true # will be true\n",
    "echo $?\n",
    "true | false # will be false\n",
    "echo $?\n",
    "# when pipefail is on, exit code is last command that failed\n",
    "bash -o pipefail -c \"false | true\" \n",
    "echo $?"
   ]
  },
  {
   "cell_type": "markdown",
   "id": "31903996",
   "metadata": {
    "slideshow": {
     "slide_type": "subslide"
    }
   },
   "source": [
    "## Named pipe\n",
    "- A pipe device on the filesystem"
   ]
  },
  {
   "cell_type": "code",
   "execution_count": 5,
   "id": "455aad31",
   "metadata": {
    "slideshow": {
     "slide_type": "fragment"
    }
   },
   "outputs": [
    {
     "name": "stdout",
     "output_type": "stream",
     "text": [
      "[INFO] demo reset\n",
      "mypipe: fifo (named pipe)\n"
     ]
    }
   ],
   "source": [
    "initdemo\n",
    "mkfifo mypipe  # Create named pipe named mypipe in CWD\n",
    "file mypipe"
   ]
  },
  {
   "cell_type": "code",
   "execution_count": 8,
   "id": "43a021b0",
   "metadata": {
    "slideshow": {
     "slide_type": "fragment"
    }
   },
   "outputs": [
    {
     "name": "stdout",
     "output_type": "stream",
     "text": [
      "[1] 6862\n"
     ]
    }
   ],
   "source": [
    "# read from pipe until EOF\n",
    "while read r; do echo \"OUT: $r\"; done < mypipe &\n",
    "pid=$!"
   ]
  },
  {
   "cell_type": "code",
   "execution_count": 9,
   "id": "97e4fd72",
   "metadata": {
    "slideshow": {
     "slide_type": "fragment"
    }
   },
   "outputs": [
    {
     "name": "stdout",
     "output_type": "stream",
     "text": [
      "OUT: hello, world\n",
      "OUT: named pipes are cool\n"
     ]
    },
    {
     "ename": "",
     "evalue": "1",
     "output_type": "error",
     "traceback": []
    }
   ],
   "source": [
    "cat <<EOF > mypipe\n",
    "hello, world\n",
    "named pipes are cool\n",
    "EOF"
   ]
  },
  {
   "cell_type": "markdown",
   "id": "b929e2e9",
   "metadata": {
    "slideshow": {
     "slide_type": "slide"
    }
   },
   "source": [
    "# Fundamental Un*x commands\n",
    "- cat\n",
    "- tee\n",
    "- grep\n",
    "- sed\n",
    "- awk\n",
    "- tr\n",
    "- sort\n",
    "- find\n",
    "- xargs\n",
    "- head\n",
    "- tail"
   ]
  },
  {
   "cell_type": "code",
   "execution_count": 2,
   "id": "98c20aa3",
   "metadata": {
    "slideshow": {
     "slide_type": "subslide"
    }
   },
   "outputs": [
    {
     "name": "stdout",
     "output_type": "stream",
     "text": [
      "[INFO] demo reset\n",
      "hello, world\n",
      "file1  file2  file3\n",
      "hello, world\n",
      "hello, world\n",
      "hello, world\n"
     ]
    }
   ],
   "source": [
    "initdemo\n",
    "# tee directs output both a file and stdout\n",
    "echo \"hello, world\" | tee file1 | tee file2 | tee file3 | cat\n",
    "ls\n",
    "cat *"
   ]
  },
  {
   "cell_type": "code",
   "execution_count": 6,
   "id": "0eeeedfe",
   "metadata": {
    "scrolled": true,
    "slideshow": {
     "slide_type": "subslide"
    }
   },
   "outputs": [
    {
     "name": "stdout",
     "output_type": "stream",
     "text": [
      "hello, bob\n",
      "hello, bob\n",
      "hello, bob\n",
      "hello, world\n",
      "hello, bob\n",
      "hello, bob\n",
      "hello, bob\n",
      "hello, bob\n"
     ]
    }
   ],
   "source": [
    "# tee also appends\n",
    "echo \"hello, bob\" | tee file1 | tee file2 | tee -a file3\n",
    "cat *"
   ]
  },
  {
   "cell_type": "code",
   "execution_count": 7,
   "id": "b9db85e6",
   "metadata": {
    "slideshow": {
     "slide_type": "subslide"
    }
   },
   "outputs": [
    {
     "name": "stdout",
     "output_type": "stream",
     "text": [
      "hello, bob\n"
     ]
    }
   ],
   "source": [
    "# Sed - the stream editor\n",
    "echo \"hello, world\" | sed 's/world/bob/'"
   ]
  },
  {
   "cell_type": "code",
   "execution_count": 16,
   "id": "d56688be",
   "metadata": {
    "slideshow": {
     "slide_type": "fragment"
    }
   },
   "outputs": [
    {
     "name": "stdout",
     "output_type": "stream",
     "text": [
      "bonjour, world\n"
     ]
    }
   ],
   "source": [
    "# awk, a stream scripting language\n",
    "echo \"hello, world\" | awk '{ printf(\"bonjour, %s\\n\", $2)}'"
   ]
  },
  {
   "cell_type": "code",
   "execution_count": 14,
   "id": "3de95e38",
   "metadata": {
    "slideshow": {
     "slide_type": "fragment"
    }
   },
   "outputs": [
    {
     "name": "stdout",
     "output_type": "stream",
     "text": [
      "abcdefghijklmnopqrstuvwxyz zyxwvutsrqponmlkjihgfedcba\n",
      "svool, dliow\n",
      "hello, world\n"
     ]
    }
   ],
   "source": [
    "# tr - translates and deletes chars\n",
    "ALPHA=$(echo {a..z} | tr -d ' ')\n",
    "RALPHA=$(echo {z..a} | tr -d ' ')\n",
    "echo $ALPHA $RALPHA\n",
    "# converts charts, converts them back\n",
    "echo hello, world | tr $ALPHA $RALPHA | tee /dev/tty | tr $ALPHA $RALPHA"
   ]
  },
  {
   "cell_type": "code",
   "execution_count": 17,
   "id": "97b7f8b8",
   "metadata": {
    "slideshow": {
     "slide_type": "subslide"
    }
   },
   "outputs": [
    {
     "name": "stdout",
     "output_type": "stream",
     "text": [
      "alpha\n",
      "beta\n",
      "gamma\n",
      "zeta\n"
     ]
    }
   ],
   "source": [
    "# sort sorts alpha numerically\n",
    "cat <<EOF | sort\n",
    "zeta\n",
    "beta\n",
    "gamma\n",
    "alpha\n",
    "EOF"
   ]
  },
  {
   "cell_type": "code",
   "execution_count": 19,
   "id": "07c9f3b5",
   "metadata": {
    "slideshow": {
     "slide_type": "fragment"
    }
   },
   "outputs": [
    {
     "name": "stdout",
     "output_type": "stream",
     "text": [
      "10\n",
      "22\n",
      "5\n",
      "9\n"
     ]
    }
   ],
   "source": [
    "# or numerically\n",
    "cat <<EOF | sort -n\n",
    "10\n",
    "5\n",
    "9\n",
    "22\n",
    "EOF"
   ]
  },
  {
   "cell_type": "code",
   "execution_count": 21,
   "id": "41347bd7",
   "metadata": {
    "scrolled": true,
    "slideshow": {
     "slide_type": "fragment"
    }
   },
   "outputs": [
    {
     "name": "stdout",
     "output_type": "stream",
     "text": [
      "100B\n",
      "5MB\n",
      "1GB\n"
     ]
    }
   ],
   "source": [
    "# and sizes\n",
    "cat <<EOF | sort -h\n",
    "1GB\n",
    "5MB\n",
    "100B\n",
    "EOF"
   ]
  },
  {
   "cell_type": "code",
   "execution_count": 27,
   "id": "827f8b86",
   "metadata": {
    "scrolled": true,
    "slideshow": {
     "slide_type": "subslide"
    }
   },
   "outputs": [
    {
     "name": "stdout",
     "output_type": "stream",
     "text": [
      ".\n",
      "./this\n",
      "./this/is\n",
      "./this/is/a\n",
      "./this/is/a/subdirectory\n",
      "./this/is/a/subdirectory/file2\n",
      "./this/is/another\n",
      "./this/is/another/file3\n",
      "./this/is/another/subdir\n",
      "./this/is/afile\n"
     ]
    }
   ],
   "source": [
    "# find crawls directories and returns a files (regular, dirs, etc)\n",
    "mkdir -p this/is/a/subdirectory this/is/another/subdir\n",
    "touch this/is/afile this/is/a/subdirectory/file2 this/is/another/file3\n",
    "find"
   ]
  },
  {
   "cell_type": "code",
   "execution_count": 28,
   "id": "0eb31ebd",
   "metadata": {
    "scrolled": false,
    "slideshow": {
     "slide_type": "fragment"
    }
   },
   "outputs": [
    {
     "name": "stdout",
     "output_type": "stream",
     "text": [
      "./this/is/a/subdirectory/file2\n",
      "./this/is/another/file3\n",
      "./this/is/afile\n"
     ]
    }
   ],
   "source": [
    "# find has predicates for limiting what is searched\n",
    "find . -type f  # just the regular files"
   ]
  },
  {
   "cell_type": "code",
   "execution_count": 29,
   "id": "9adf2492",
   "metadata": {
    "slideshow": {
     "slide_type": "fragment"
    }
   },
   "outputs": [
    {
     "name": "stdout",
     "output_type": "stream",
     "text": [
      "./this/is/a/greeting:hello, world\n"
     ]
    }
   ],
   "source": [
    "# xargs takes in a file listing, and runs the command on each file\n",
    "echo \"hello, world\" > this/is/a/greeting\n",
    "find . -type f | xargs grep hello"
   ]
  },
  {
   "cell_type": "code",
   "execution_count": 30,
   "id": "7b9e14d5",
   "metadata": {
    "slideshow": {
     "slide_type": "subslide"
    }
   },
   "outputs": [
    {
     "name": "stdout",
     "output_type": "stream",
     "text": [
      "grep: ./this/is/a/valid: No such file or directory\n",
      "grep: greeting: No such file or directory\n"
     ]
    },
    {
     "ename": "",
     "evalue": "123",
     "output_type": "error",
     "traceback": []
    }
   ],
   "source": [
    "# watch out for special chars in filenames\n",
    "echo \"howdy, partner\" > \"this/is/a/valid greeting\"\n",
    "find . -type f | xargs grep howdy"
   ]
  },
  {
   "cell_type": "code",
   "execution_count": 32,
   "id": "f5975c08",
   "metadata": {
    "slideshow": {
     "slide_type": "fragment"
    }
   },
   "outputs": [
    {
     "name": "stdout",
     "output_type": "stream",
     "text": [
      "./this/is/a/valid greeting:howdy, partner\n"
     ]
    }
   ],
   "source": [
    "# use nul (0) char separators\n",
    "find . -type f -print0 | xargs -0 grep howdy"
   ]
  },
  {
   "cell_type": "markdown",
   "id": "c7da2c42",
   "metadata": {
    "slideshow": {
     "slide_type": "slide"
    },
    "vscode": {
     "languageId": "plaintext"
    }
   },
   "source": [
    "# The C Shell\n",
    "* `/bin/csh` or `/bin/tcsh` (the Gnu version)\n",
    "* Integrated with X-Midas\n",
    "* Often X-Midas users' default shell\n",
    "* Ushered in great interactive capabilities (history, ~, aliases)\n",
    "* Not in common usage since 90's (Sun Solaris 1.0 and original BSD)\n",
    "* Considered flawed and buggy"
   ]
  },
  {
   "cell_type": "code",
   "execution_count": null,
   "id": "4f925633",
   "metadata": {
    "vscode": {
     "languageId": "plaintext"
    }
   },
   "outputs": [],
   "source": [
    "# Example C-Shell Flaws\n",
    "* Missing functions\n",
    "* Cannot use complex commands in pipes\n",
    "  * No foreach | grep\n",
    "* Handling argument spaces is very tricky\n",
    "  * Missing `\"$@\"` equivalent in bash\n",
    "* Uses an ad-hoc parser (vs a formal grammar)\n",
    "## Example C Shell Flaw - IO Rediction in a line before remaining part of line\n",
    "```csh\n",
    "# Works as expected\n",
    "if ( ! -e myfile ) then\n",
    "   echo mytext > myfile\n",
    "endif\n",
    "\n",
    "# Always creates an empty file\n",
    "if (! -e myfile) echo mytext > myfile\n",
    "```"
   ]
  }
 ],
 "metadata": {
  "celltoolbar": "Slideshow",
  "kernelspec": {
   "display_name": "Bash",
   "language": "bash",
   "name": "bash"
  },
  "language_info": {
   "codemirror_mode": "shell",
   "file_extension": ".sh",
   "mimetype": "text/x-sh",
   "name": "bash"
  },
  "rise": {
   "scroll": true,
   "start_slideshow_at": "selected"
  }
 },
 "nbformat": 4,
 "nbformat_minor": 5
}
