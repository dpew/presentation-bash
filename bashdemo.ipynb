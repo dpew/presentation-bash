{
 "cells": [
  {
   "cell_type": "code",
   "execution_count": 10,
   "id": "033d36a3",
   "metadata": {
    "scrolled": true,
    "slideshow": {
     "slide_type": "notes"
    }
   },
   "outputs": [
    {
     "name": "stdout",
     "output_type": "stream",
     "text": [
      "[INFO] JHOME=/home/dpew/src/presentations/presentation-bash\n",
      "[INFO] demo reset\n",
      "[INFO] demo reset\n"
     ]
    }
   ],
   "source": [
    "# Run to initialize demo\n",
    "[[ $(type -t initdemo) != function ]] && source initdemo\n",
    "initdemo --verbose\n",
    "\n",
    "# Now use alt-r to enter rise\n",
    "# Use Space to advance, Ctrl-Enter to Run"
   ]
  },
  {
   "cell_type": "markdown",
   "id": "4b635768",
   "metadata": {
    "slideshow": {
     "slide_type": "slide"
    },
    "vscode": {
     "languageId": "plaintext"
    }
   },
   "source": [
    "# A Quick Introduction to Linux and Bash\n",
    "\n",
    "\n",
    "This presentation is a brief introduction to Linux and the Bash shell. \n",
    "\n",
    "Linux is a UNIX like Operating System developed by Linus Torvalis in the 1990s.\n",
    "Linux is not techinically UNIX, as UNIX is a trademarked name owned by X.\n",
    "But much of this presentation will apply to other UN*X systems, like MacOS or Free BSD."
   ]
  },
  {
   "cell_type": "markdown",
   "id": "4285ec23",
   "metadata": {
    "slideshow": {
     "slide_type": "slide"
    },
    "vscode": {
     "languageId": "plaintext"
    }
   },
   "source": [
    "# The Unix Filesystem\n",
    "\n",
    "\n",
    "The Unix filesystem is a hierarchal collection of files starting with the root directory (/):"
   ]
  },
  {
   "cell_type": "code",
   "execution_count": 3,
   "id": "6b2e8b55",
   "metadata": {
    "slideshow": {
     "slide_type": "fragment"
    },
    "vscode": {
     "languageId": "plaintext"
    }
   },
   "outputs": [
    {
     "name": "stdout",
     "output_type": "stream",
     "text": [
      "total 1500\n",
      "drwxr-xr-x   3 root root    4096 Apr 24  2023 Docker\n",
      "lrwxrwxrwx   1 root root       7 Apr 23  2020 bin -> usr/bin\n",
      "drwxr-xr-x   2 root root    4096 Apr 23  2020 boot\n",
      "drwxr-xr-x   9 root root    3080 Jun  2 12:34 dev\n",
      "drwxr-xr-x 128 root root   12288 Jun  2 12:33 etc\n",
      "drwxr-xr-x   4 root root    4096 Nov  6  2022 home\n",
      "-rwxr-xr-x   3 root root 1440152 May  7  2022 init\n",
      "lrwxrwxrwx   1 root root       7 Apr 23  2020 lib -> usr/lib\n",
      "lrwxrwxrwx   1 root root       9 Apr 23  2020 lib32 -> usr/lib32\n",
      "lrwxrwxrwx   1 root root       9 Apr 23  2020 lib64 -> usr/lib64\n",
      "lrwxrwxrwx   1 root root      10 Apr 23  2020 libx32 -> usr/libx32\n",
      "drwx------   2 root root   16384 Apr 10  2019 lost+found\n",
      "drwxr-xr-x   2 root root    4096 Apr 23  2020 media\n",
      "drwxr-xr-x   5 root root    4096 Oct 18  2022 mnt\n",
      "drwxr-xr-x   3 root root    4096 Jan 31  2022 opt\n",
      "dr-xr-xr-x 401 root root       0 Jun  2 12:33 proc\n",
      "drwx------   7 root root    4096 Oct 25  2022 root\n",
      "drwxr-xr-x   7 root root     200 Jun  2 12:34 run\n",
      "lrwxrwxrwx   1 root root       8 Apr 23  2020 sbin -> usr/sbin\n",
      "drwxr-xr-x   2 root root    4096 Apr 10  2020 snap\n",
      "drwxr-xr-x   2 root root    4096 Apr 23  2020 srv\n",
      "dr-xr-xr-x  11 root root       0 Jun  2 12:33 sys\n",
      "drwxrwxrwt  97 root root   20480 Jun  2 15:06 tmp\n",
      "drwxr-xr-x  14 root root    4096 Apr 23  2020 usr\n",
      "drwxr-xr-x  13 root root    4096 Apr 23  2020 var\n"
     ]
    }
   ],
   "source": [
    "# lets see the filesystem\n",
    "\n",
    "ls -l /"
   ]
  },
  {
   "cell_type": "markdown",
   "id": "888fe544",
   "metadata": {
    "slideshow": {
     "slide_type": "subslide"
    },
    "vscode": {
     "languageId": "plaintext"
    }
   },
   "source": [
    "# Most linux distros follow the Filesystem Hierarchy System (FHS). \n",
    "\n",
    "FHS specifies a standard location for files in UN*X, such as executables (commands that can be run, devices, shared libraries, etc.)"
   ]
  },
  {
   "cell_type": "markdown",
   "id": "15a01c2a",
   "metadata": {
    "slideshow": {
     "slide_type": "subslide"
    },
    "vscode": {
     "languageId": "plaintext"
    }
   },
   "source": [
    "## What is a file?\n",
    "\n",
    "A file in unix is one of:\n",
    "  - regular file\n",
    "  - directory\n",
    "  - character device\n",
    "  - block device\n",
    "  - FIFOs/ Named Pipes\n",
    "  - symbolic link\n",
    "  - socket"
   ]
  },
  {
   "cell_type": "markdown",
   "id": "f413fbbd",
   "metadata": {
    "slideshow": {
     "slide_type": "subslide"
    },
    "vscode": {
     "languageId": "plaintext"
    }
   },
   "source": [
    "# Regular Files"
   ]
  },
  {
   "cell_type": "code",
   "execution_count": 14,
   "id": "035dec7b",
   "metadata": {
    "slideshow": {
     "slide_type": "fragment"
    },
    "vscode": {
     "languageId": "plaintext"
    }
   },
   "outputs": [],
   "source": [
    "# Let's make a file\n",
    "echo \"This is my data\" > data.txt"
   ]
  },
  {
   "cell_type": "code",
   "execution_count": 15,
   "id": "6ddace3a",
   "metadata": {
    "slideshow": {
     "slide_type": "fragment"
    },
    "vscode": {
     "languageId": "plaintext"
    }
   },
   "outputs": [
    {
     "name": "stdout",
     "output_type": "stream",
     "text": [
      "This is my data\n"
     ]
    }
   ],
   "source": [
    "# cat displays the contents of a file\n",
    "cat data.txt"
   ]
  },
  {
   "cell_type": "markdown",
   "id": "16855ed6",
   "metadata": {
    "slideshow": {
     "slide_type": "subslide"
    }
   },
   "source": [
    "# Directory"
   ]
  },
  {
   "cell_type": "code",
   "execution_count": 2,
   "id": "0b9707a6",
   "metadata": {
    "slideshow": {
     "slide_type": "fragment"
    },
    "vscode": {
     "languageId": "plaintext"
    }
   },
   "outputs": [],
   "source": [
    "# make a directory\n",
    "mkdir mydir"
   ]
  },
  {
   "cell_type": "code",
   "execution_count": 3,
   "id": "9c45dc06",
   "metadata": {
    "slideshow": {
     "slide_type": "fragment"
    },
    "vscode": {
     "languageId": "plaintext"
    }
   },
   "outputs": [
    {
     "name": "stdout",
     "output_type": "stream",
     "text": [
      "/home/dpew/src/presentations/presentation-bash\n",
      "/home/dpew/src/presentations/presentation-bash/mydir\n"
     ]
    }
   ],
   "source": [
    "# enter the mydir directory\n",
    "pwd\n",
    "cd mydir\n",
    "pwd"
   ]
  },
  {
   "cell_type": "code",
   "execution_count": 4,
   "id": "3d0c7af6",
   "metadata": {
    "slideshow": {
     "slide_type": "fragment"
    },
    "vscode": {
     "languageId": "plaintext"
    }
   },
   "outputs": [
    {
     "name": "stdout",
     "output_type": "stream",
     "text": [
      "/home/dpew/src/presentations/presentation-bash\n"
     ]
    }
   ],
   "source": [
    "# Return to the parent directory\n",
    "cd ..\n",
    "pwd"
   ]
  },
  {
   "cell_type": "code",
   "execution_count": 7,
   "id": "c4e3b465",
   "metadata": {
    "slideshow": {
     "slide_type": "subslide"
    },
    "vscode": {
     "languageId": "plaintext"
    }
   },
   "outputs": [
    {
     "name": "stdout",
     "output_type": "stream",
     "text": [
      "/var/tmp ~/src/presentations/presentation-bash\n",
      "/var/tmp\n"
     ]
    }
   ],
   "source": [
    "# Another way of navigating files\n",
    "pushd /var/tmp\n",
    "pwd"
   ]
  },
  {
   "cell_type": "code",
   "execution_count": 8,
   "id": "af971d2c",
   "metadata": {
    "slideshow": {
     "slide_type": "fragment"
    },
    "vscode": {
     "languageId": "plaintext"
    }
   },
   "outputs": [
    {
     "name": "stdout",
     "output_type": "stream",
     "text": [
      "~/src/presentations/presentation-bash\n",
      "/home/dpew/src/presentations/presentation-bash\n"
     ]
    }
   ],
   "source": [
    "# return to previous directory\n",
    "popd\n",
    "pwd"
   ]
  },
  {
   "cell_type": "markdown",
   "id": "287d2f6a",
   "metadata": {
    "slideshow": {
     "slide_type": "subslide"
    },
    "vscode": {
     "languageId": "plaintext"
    }
   },
   "source": [
    "# Inodes (Links)"
   ]
  },
  {
   "cell_type": "code",
   "execution_count": 16,
   "id": "3429f16e",
   "metadata": {
    "slideshow": {
     "slide_type": "fragment"
    },
    "vscode": {
     "languageId": "plaintext"
    }
   },
   "outputs": [
    {
     "name": "stdout",
     "output_type": "stream",
     "text": [
      "total 12\n",
      "drwxr-xr-x 2 dpew dpew 4096 Jun  2 15:30 .\n",
      "drwxr-xr-x 9 dpew dpew 4096 Jun  2 15:30 ..\n",
      "-rw-r--r-- 1 dpew dpew   16 Jun  2 15:30 data.txt\n"
     ]
    }
   ],
   "source": [
    "# a directory contains links to inodes\n",
    "ls -la"
   ]
  },
  {
   "cell_type": "markdown",
   "id": "5b745068",
   "metadata": {
    "slideshow": {
     "slide_type": "notes"
    },
    "vscode": {
     "languageId": "plaintext"
    }
   },
   "source": [
    "Stop here and explain the contents of the directory"
   ]
  },
  {
   "cell_type": "code",
   "execution_count": 17,
   "id": "e54c9be7",
   "metadata": {
    "slideshow": {
     "slide_type": "fragment"
    },
    "vscode": {
     "languageId": "plaintext"
    }
   },
   "outputs": [],
   "source": [
    "# create link to a file\n",
    "ln data.txt linked.txt"
   ]
  },
  {
   "cell_type": "code",
   "execution_count": 18,
   "id": "63b33088",
   "metadata": {
    "slideshow": {
     "slide_type": "fragment"
    },
    "vscode": {
     "languageId": "plaintext"
    }
   },
   "outputs": [
    {
     "name": "stdout",
     "output_type": "stream",
     "text": [
      "total 8\n",
      "-rw-r--r-- 2 dpew dpew 16 Jun  2 15:30 data.txt\n",
      "-rw-r--r-- 2 dpew dpew 16 Jun  2 15:30 linked.txt\n"
     ]
    }
   ],
   "source": [
    "# data.txt now shows an additional link\n",
    "ls -l"
   ]
  },
  {
   "cell_type": "code",
   "execution_count": null,
   "id": "4effd586",
   "metadata": {
    "slideshow": {
     "slide_type": "subslide"
    },
    "vscode": {
     "languageId": "plaintext"
    }
   },
   "outputs": [],
   "source": [
    "# A link points to the same inode (file)\n",
    "cat linked.txt\n",
    "# Make an edit to file via link\n",
    "echo \"A new line\" >> linked.txt\n",
    "# Same data\n",
    "cat data.txt"
   ]
  },
  {
   "cell_type": "code",
   "execution_count": null,
   "id": "f29c8b78",
   "metadata": {
    "slideshow": {
     "slide_type": "fragment"
    },
    "vscode": {
     "languageId": "plaintext"
    }
   },
   "outputs": [],
   "source": [
    "# So long as links remain, inode remains\n",
    "rm data.txt\n",
    "# Data still exists\n",
    "cat linked.txt"
   ]
  },
  {
   "cell_type": "code",
   "execution_count": 11,
   "id": "2485fed8",
   "metadata": {
    "slideshow": {
     "slide_type": "notes"
    },
    "vscode": {
     "languageId": "plaintext"
    }
   },
   "outputs": [
    {
     "name": "stdout",
     "output_type": "stream",
     "text": [
      "[INFO] demo reset\n"
     ]
    }
   ],
   "source": [
    "# clean up files\n",
    "initdemo"
   ]
  },
  {
   "cell_type": "markdown",
   "id": "5adb67e1",
   "metadata": {
    "slideshow": {
     "slide_type": "subslide"
    },
    "vscode": {
     "languageId": "plaintext"
    }
   },
   "source": [
    "# Symbolic Links"
   ]
  },
  {
   "cell_type": "code",
   "execution_count": null,
   "id": "c0192c12",
   "metadata": {
    "slideshow": {
     "slide_type": "fragment"
    },
    "vscode": {
     "languageId": "plaintext"
    }
   },
   "outputs": [],
   "source": [
    "# symbolic link is a pointer\n",
    "echo \"This is new data\" > newdata.txt\n",
    "ln -s newdata.txt symbolic.txt\n",
    "ls -l"
   ]
  },
  {
   "cell_type": "code",
   "execution_count": 20,
   "id": "70d23f54",
   "metadata": {
    "slideshow": {
     "slide_type": "fragment"
    },
    "vscode": {
     "languageId": "plaintext"
    }
   },
   "outputs": [
    {
     "name": "stdout",
     "output_type": "stream",
     "text": [
      "ln: failed to create symbolic link 'symbolic.txt': File exists\n",
      "total 12\n",
      "-rw-r--r-- 2 dpew dpew 16 Jun  2 15:30 data.txt\n",
      "-rw-r--r-- 2 dpew dpew 16 Jun  2 15:30 linked.txt\n",
      "-rw-r--r-- 1 dpew dpew 17 Jun  2 15:32 newdata.txt\n",
      "lrwxrwxrwx 1 dpew dpew 11 Jun  2 15:31 symbolic.txt -> newdata.txt\n",
      "This is new data\n"
     ]
    }
   ],
   "source": [
    "cat symbolic.txt"
   ]
  },
  {
   "cell_type": "code",
   "execution_count": null,
   "id": "55b37fb9",
   "metadata": {
    "slideshow": {
     "slide_type": "fragment"
    },
    "vscode": {
     "languageId": "plaintext"
    }
   },
   "outputs": [],
   "source": [
    "# Look at the file types\n",
    "file *"
   ]
  },
  {
   "cell_type": "code",
   "execution_count": null,
   "id": "64103db8",
   "metadata": {
    "slideshow": {
     "slide_type": "fragment"
    },
    "vscode": {
     "languageId": "plaintext"
    }
   },
   "outputs": [],
   "source": [
    "# When removing the original, the symlink no longer works\n",
    "rm newdata.txt\n",
    "ln -s\n",
    "cat symbolic.txt # an error"
   ]
  },
  {
   "cell_type": "markdown",
   "id": "c06785e1-4c0d-485e-a94d-f5c8ea1a82fc",
   "metadata": {
    "slideshow": {
     "slide_type": "slide"
    }
   },
   "source": [
    "# The Shell\n",
    "* Interact with an OS  \n",
    "* \"A shell, or command line interpreter, is a program that interprets lines of text entered by a user, a file or a data stream\"  \n",
    "* Used for both scripting and interactive sessions  "
   ]
  },
  {
   "cell_type": "markdown",
   "id": "22e7f9dd-b65d-40ef-a90c-c715d330850f",
   "metadata": {
    "slideshow": {
     "slide_type": "slide"
    }
   },
   "source": [
    "# Common Unix Shells\n",
    "* `/bin/sh`\n",
    "  The POSIX Shell - compatible across all POSIX Systems.  Ws the original SYSV shell\n",
    "* `/bin/bash`\n",
    "  GNU Bourne Again Shell. Extends /bin/sh. Often the default shell on most Linux distros.\n",
    "* `/bin/zsh`\n",
    "  Z-Shell. Quite a few similarities to bash. The default shell in MacOS. available on Linux distros.\n",
    "* `/bin/tcsh`\n",
    "  The GNU \"C Shell\". Used by X-Midas/Studies community."
   ]
  },
  {
   "cell_type": "code",
   "execution_count": null,
   "id": "1e6fd209",
   "metadata": {
    "vscode": {
     "languageId": "plaintext"
    }
   },
   "outputs": [],
   "source": []
  },
  {
   "cell_type": "markdown",
   "id": "ef5fe8c5",
   "metadata": {
    "slideshow": {
     "slide_type": "slide"
    }
   },
   "source": [
    "# IO Redirection"
   ]
  },
  {
   "cell_type": "code",
   "execution_count": null,
   "id": "cfadb549",
   "metadata": {
    "slideshow": {
     "slide_type": "notes"
    }
   },
   "outputs": [],
   "source": [
    "initdemo # Reset demo"
   ]
  },
  {
   "cell_type": "code",
   "execution_count": null,
   "id": "6f192902",
   "metadata": {
    "slideshow": {
     "slide_type": "slide"
    }
   },
   "outputs": [],
   "source": [
    "cat file #file does not exists`"
   ]
  },
  {
   "cell_type": "code",
   "execution_count": null,
   "id": "95a394c5",
   "metadata": {
    "slideshow": {
     "slide_type": "slide"
    }
   },
   "outputs": [],
   "source": [
    "# Redirect stdin to a file\n",
    "echo \"Contents of file\" > file \n",
    "# Now the file exists\n",
    "cat file"
   ]
  },
  {
   "cell_type": "code",
   "execution_count": null,
   "id": "cba2b8ca",
   "metadata": {
    "slideshow": {
     "slide_type": "-"
    }
   },
   "outputs": [],
   "source": [
    "echo \"Appended line\" >> file # Append stdin to file\n",
    "cat file"
   ]
  },
  {
   "cell_type": "code",
   "execution_count": null,
   "id": "db27c190-fceb-46c5-8499-dcf8f48e9fa3",
   "metadata": {
    "slideshow": {
     "slide_type": "-"
    }
   },
   "outputs": [],
   "source": [
    "tr '[:lower:]' '[:upper:]' < file # Redirect file to stdin"
   ]
  },
  {
   "cell_type": "markdown",
   "id": "95c86658",
   "metadata": {
    "slideshow": {
     "slide_type": "slide"
    }
   },
   "source": [
    "# STDIN, STDOUT and STDERR\n",
    "\n",
    "\n",
    "Each unix process has an table of open files.  The index in this table represents the file descriptor number:\n",
    "![File Descriptors](img/file-descriptors.png)"
   ]
  },
  {
   "cell_type": "markdown",
   "id": "cf019641",
   "metadata": {
    "slideshow": {
     "slide_type": "slide"
    }
   },
   "source": [
    "# STDIN, STDOUT and STDERR\n",
    " 0. stdin  \n",
    " 1. stdout  \n",
    " 2. stderr"
   ]
  },
  {
   "cell_type": "markdown",
   "id": "f0d11067",
   "metadata": {
    "slideshow": {
     "slide_type": "slide"
    }
   },
   "source": [
    "# Here Documents"
   ]
  },
  {
   "cell_type": "code",
   "execution_count": null,
   "id": "a1ff0193",
   "metadata": {
    "slideshow": {
     "slide_type": "slide"
    }
   },
   "outputs": [],
   "source": [
    "cat <<< \"Sensitive password\"  # three left braces means send next argument to stdin"
   ]
  },
  {
   "cell_type": "code",
   "execution_count": null,
   "id": "a754f09f",
   "metadata": {},
   "outputs": [],
   "source": [
    "export MYVAR=FOO\n",
    "cat <<HEREDOC  # Two left braces means read until HEREDOC appears on first line\n",
    "This is a multi line document\n",
    "read from bash.  It keeps reading until\n",
    "the HEREDOC string is the first line.  Not\n",
    "that variables are expanded MYVAR=${MYVAR}\n",
    "HEREDOC"
   ]
  },
  {
   "cell_type": "markdown",
   "id": "490a8df8",
   "metadata": {
    "slideshow": {
     "slide_type": "slide"
    }
   },
   "source": [
    "# Pipes"
   ]
  },
  {
   "cell_type": "code",
   "execution_count": null,
   "id": "d91c8e9f",
   "metadata": {},
   "outputs": [],
   "source": [
    "cat <<EOF | grep Spain\n",
    "The rain\n",
    "in Spain\n",
    "falls mainly\n",
    "in the plain\n",
    "EOF"
   ]
  },
  {
   "cell_type": "markdown",
   "id": "31903996",
   "metadata": {},
   "source": [
    "### A named pipe"
   ]
  },
  {
   "cell_type": "code",
   "execution_count": null,
   "id": "43a021b0",
   "metadata": {},
   "outputs": [],
   "source": [
    "initdemo\n",
    "mkfifo mypipe  # Create named pipe named mypipe in CWD\n",
    "cat mypipe &"
   ]
  },
  {
   "cell_type": "code",
   "execution_count": null,
   "id": "97e4fd72",
   "metadata": {},
   "outputs": [],
   "source": [
    "echo \"hello, world\" > mypipe\n",
    "ls -l\n",
    "jobs"
   ]
  },
  {
   "cell_type": "code",
   "execution_count": null,
   "id": "07c4ebd9",
   "metadata": {},
   "outputs": [],
   "source": [
    "echo \"Echo to stdout\" | grep -v stdout  # No output here\n",
    "echo \"Echo to stderr\" 1>&2 | grep -v stderr # grep caught stdout, not stderr"
   ]
  },
  {
   "cell_type": "code",
   "execution_count": null,
   "id": "62604836",
   "metadata": {
    "vscode": {
     "languageId": "plaintext"
    }
   },
   "outputs": [],
   "source": [
    "# The C Shell\n",
    "* `/bin/csh` or `/bin/tcsh` (the Gnu version)\n",
    "* Integrated with X-Midas\n",
    "* Also used by X-Midas users as their default shell, although this is not required\n",
    "* Ushered in great interactive capabilities (history, ~, aliases)\n",
    "* Not in common usage since 90's (Sun Solaris 1.0 and original BSD)\n",
    "* Considered flawed and buggy by most developers"
   ]
  },
  {
   "cell_type": "code",
   "execution_count": null,
   "id": "4f925633",
   "metadata": {
    "vscode": {
     "languageId": "plaintext"
    }
   },
   "outputs": [],
   "source": [
    "# Example C-Shell Flaws\n",
    "* Missing functions\n",
    "* Cannot use complex commands in pipes\n",
    "  * No foreach | grep\n",
    "* Handling argument spaces is very tricky\n",
    "  * Missing `\"$@\"` equivalent in bash\n",
    "* Uses an ad-hoc parser (vs a formal grammar)\n",
    "## Example C Shell Flaw - IO Rediction in a line before remaining part of line\n",
    "```csh\n",
    "# Works as expected\n",
    "if ( ! -e myfile ) then\n",
    "   echo mytext > myfile\n",
    "endif\n",
    "\n",
    "# Always creates an empty file\n",
    "if (! -e myfile) echo mytext > myfile\n",
    "```"
   ]
  }
 ],
 "metadata": {
  "celltoolbar": "Slideshow",
  "kernelspec": {
   "display_name": "Bash",
   "language": "bash",
   "name": "bash"
  },
  "language_info": {
   "codemirror_mode": "shell",
   "file_extension": ".sh",
   "mimetype": "text/x-sh",
   "name": "bash"
  },
  "rise": {
   "scroll": true,
   "start_slideshow_at": "selected"
  }
 },
 "nbformat": 4,
 "nbformat_minor": 5
}
