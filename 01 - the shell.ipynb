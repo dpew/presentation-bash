{
 "cells": [
  {
   "cell_type": "markdown",
   "id": "c06785e1-4c0d-485e-a94d-f5c8ea1a82fc",
   "metadata": {},
   "source": [
    "# The Shell\n",
    "* Interact with an OS  \n",
    "* \"A shell, or command line interpreter, is a program that interprets lines of text entered by a user, a file or a data stream\"  \n",
    "* Used for both scripting and interactive sessions  "
   ]
  },
  {
   "cell_type": "markdown",
   "id": "22e7f9dd-b65d-40ef-a90c-c715d330850f",
   "metadata": {},
   "source": [
    "# Most Popular Unix Shells\n",
    "* Derive from the original SYSV Bourne shell /bin/sh\n",
    "* /bin/sh\n",
    "  The POSIX Shell - compatible across all POSIX Systems.\n",
    "* /bin/bash\n",
    "  GNU Bourne Again Shell. Extends /bin/sh. Often the default shell on most Linux distros.\n",
    "* /bin/zsh\n",
    "  Z-Shell. Quite a few similarities to bash. Now the default shell Mac, available on Linux distros."
   ]
  },
  {
   "cell_type": "markdown",
   "id": "bc6be562-ecb8-4410-a949-94f287005232",
   "metadata": {},
   "source": [
    "# The C Shell\n",
    "* /bin/csh or /bin/tcsh (the Gnu version)\n",
    "* Scripting used by X-Midas\n",
    "* Also used by X-Midas users as their default shell, although this is not required\n",
    "* Ushered in great interactive capabilities (history, ~, aliases)\n",
    "* Not in common usage since 90's (Sun Solaris and BSD)\n",
    "* Considered flawed and buggy by most developers"
   ]
  },
  {
   "cell_type": "code",
   "execution_count": null,
   "id": "db27c190-fceb-46c5-8499-dcf8f48e9fa3",
   "metadata": {},
   "outputs": [],
   "source": []
  }
 ],
 "metadata": {
  "kernelspec": {
   "display_name": "Bash",
   "language": "bash",
   "name": "bash"
  },
  "language_info": {
   "codemirror_mode": "shell",
   "file_extension": ".sh",
   "mimetype": "text/x-sh",
   "name": "bash"
  }
 },
 "nbformat": 4,
 "nbformat_minor": 5
}
